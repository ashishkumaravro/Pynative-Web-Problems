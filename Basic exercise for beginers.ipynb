{
 "cells": [
  {
   "cell_type": "markdown",
   "id": "21d46ad6",
   "metadata": {},
   "source": [
    "#### Exercise 1: Calculate the multiplication and sum of two numbers"
   ]
  },
  {
   "cell_type": "code",
   "execution_count": 13,
   "id": "78fa9c7e",
   "metadata": {},
   "outputs": [
    {
     "name": "stdout",
     "output_type": "stream",
     "text": [
      "Enter the number1: 10\n",
      "Enter the number2: 30\n",
      "The result is 300\n"
     ]
    }
   ],
   "source": [
    "def numbers(number1, number2):\n",
    "    value = number1 * number2\n",
    "    if value <= 1000:\n",
    "        return value\n",
    "    else:\n",
    "        return number1 + number2\n",
    "    \n",
    "\n",
    "\n",
    "number1 = int(input(\"Enter the number1: \"))\n",
    "number2 = int(input(\"Enter the number2: \"))\n",
    "print(f\"The result is {numbers(number1,number2)}\")\n"
   ]
  },
  {
   "cell_type": "markdown",
   "id": "c7224c8f",
   "metadata": {},
   "source": [
    "#### Exercise 2: Print the sum of the current number and the previous number:"
   ]
  },
  {
   "cell_type": "code",
   "execution_count": 22,
   "id": "0716ccba",
   "metadata": {},
   "outputs": [
    {
     "name": "stdout",
     "output_type": "stream",
     "text": [
      "Printing current number and previous numebr sum in a range 10\n",
      "current number0 previous numebr0 sum: 0\n",
      "current number1 previous numebr0 sum: 1\n",
      "current number2 previous numebr0 sum: 2\n",
      "current number3 previous numebr0 sum: 3\n",
      "current number4 previous numebr0 sum: 4\n",
      "current number5 previous numebr0 sum: 5\n",
      "current number6 previous numebr0 sum: 6\n",
      "current number7 previous numebr0 sum: 7\n",
      "current number8 previous numebr0 sum: 8\n",
      "current number9 previous numebr0 sum: 9\n",
      "current number10 previous numebr0 sum: 10\n"
     ]
    }
   ],
   "source": [
    "previous = 0\n",
    "print(\"Printing current number and previous numebr sum in a range 10\")\n",
    "for i in range(11):\n",
    "    x= i + previous_num\n",
    "    print(f\"current number{i} previous numebr{previous} sum: {x}\")"
   ]
  },
  {
   "cell_type": "markdown",
   "id": "3e50daf4",
   "metadata": {},
   "source": [
    "#### Exercise 3: Print characters from a string that are present at an even index number:\n"
   ]
  },
  {
   "cell_type": "code",
   "execution_count": 31,
   "id": "ccc2418f",
   "metadata": {},
   "outputs": [
    {
     "name": "stdout",
     "output_type": "stream",
     "text": [
      "Enter the value to show even: asdfgh\n",
      "original string: asdfgh\n",
      "index[ 0 ] a\n",
      "index[ 2 ] d\n",
      "index[ 4 ] g\n"
     ]
    }
   ],
   "source": [
    "value = input(\"Enter the value to show even: \")\n",
    "print(\"original string:\", value)\n",
    "size = len(value)\n",
    "for i in range(0, size - 1, 2):\n",
    "    print(\"index[\", i, \"]\", value[i])"
   ]
  },
  {
   "cell_type": "code",
   "execution_count": 33,
   "id": "c5741d21",
   "metadata": {},
   "outputs": [
    {
     "name": "stdout",
     "output_type": "stream",
     "text": [
      "Enter word: asdfg\n",
      "Original string:  asdfg\n",
      "a\n",
      "d\n",
      "g\n"
     ]
    }
   ],
   "source": [
    "word = input(\"Enter word: \")\n",
    "print(\"Original string: \", word)\n",
    "x = list(word)\n",
    "for i in x[0::2]:\n",
    "    print(i)"
   ]
  },
  {
   "cell_type": "markdown",
   "id": "a837456a",
   "metadata": {},
   "source": [
    "### Exercise 4: Remove first n characters from a string "
   ]
  },
  {
   "cell_type": "code",
   "execution_count": 35,
   "id": "4575c5bb",
   "metadata": {},
   "outputs": [
    {
     "name": "stdout",
     "output_type": "stream",
     "text": [
      "Remove characters from a word\n",
      "enter the words to remove character: ashishkumar\n",
      "Enter the word number that you want to remove: 3\n",
      "ishkumar\n"
     ]
    }
   ],
   "source": [
    "def remove(word,n):\n",
    "    x = word[n:]\n",
    "    return x\n",
    "        \n",
    "print(\"Remove characters from a word\")\n",
    "word = input(\"enter the words to remove character: \")\n",
    "n = int(input(\"Enter the word number that you want to remove: \"))\n",
    "print(remove(word,n))\n",
    "    "
   ]
  },
  {
   "cell_type": "markdown",
   "id": "73363a9b",
   "metadata": {},
   "source": [
    "### Exercise 5: Check if the first and last number of a list is the same"
   ]
  },
  {
   "cell_type": "code",
   "execution_count": 38,
   "id": "471a86a5",
   "metadata": {},
   "outputs": [
    {
     "name": "stdout",
     "output_type": "stream",
     "text": [
      "Enter the list of numebrs to check first and last are same or not: 12 11 12 134 44 1232\n",
      "the result is :  False\n"
     ]
    }
   ],
   "source": [
    "def list_same(number):\n",
    "    first = number[0]\n",
    "    last = number[-1]\n",
    "    if first == last:\n",
    "        return True\n",
    "    else:\n",
    "        return False\n",
    "    \n",
    "value  = input(\"Enter the list of numebrs to check first and last are same or not: \")\n",
    "number = value.split(\" \")\n",
    "\n",
    "print(\"the result is : \", list_same(number))    "
   ]
  },
  {
   "cell_type": "markdown",
   "id": "f16ddc29",
   "metadata": {},
   "source": [
    "#### Exercise 6: Display numbers divisible by 5 from a list"
   ]
  },
  {
   "cell_type": "code",
   "execution_count": 49,
   "id": "88583564",
   "metadata": {},
   "outputs": [
    {
     "name": "stdout",
     "output_type": "stream",
     "text": [
      "enter the list of number seperated by space: 12 13 14 15 1511 161 117\n",
      "False\n"
     ]
    }
   ],
   "source": [
    "#Display numbers divisible by 5 from a list\n",
    "def divisible_by_5(numbers):\n",
    "    for i in numbers:\n",
    "        if i % 5 == 0:\n",
    "            return True\n",
    "        else:\n",
    "            return False\n",
    "   \n",
    "    \n",
    "    \n",
    "value = input(\"enter the list of number seperated by space: \")\n",
    "numbers = list(map(int,value.split()))\n",
    "\n",
    "#numbers = [12,131,33,55,43,70,780]\n",
    "print(divisible_by_5(numbers))"
   ]
  },
  {
   "cell_type": "code",
   "execution_count": 56,
   "id": "d80ef50a",
   "metadata": {},
   "outputs": [
    {
     "name": "stdout",
     "output_type": "stream",
     "text": [
      "enter the list of number seperated by space: 12 13 14 15 16\n",
      "divisible by 5: \n",
      "15\n"
     ]
    }
   ],
   "source": [
    "#Display numbers divisible by 5 from a list\n",
    "def divisible_by_5(numbers):\n",
    "    print(\"divisible by 5: \")\n",
    "    for i in numbers:\n",
    "        if i % 5 == 0:\n",
    "            print(i)\n",
    "        \n",
    "   \n",
    "    \n",
    "    \n",
    "value = input(\"enter the list of number seperated by space: \")\n",
    "number_str = value.split()\n",
    "numbers = [int(i) for i in number_str]\n",
    "divisible_by_5(numbers)"
   ]
  },
  {
   "cell_type": "markdown",
   "id": "376b0ef8",
   "metadata": {},
   "source": [
    "#### Exercise 7: Return the count of a given substring from a string."
   ]
  },
  {
   "cell_type": "code",
   "execution_count": 63,
   "id": "fc7d4d39",
   "metadata": {},
   "outputs": [
    {
     "name": "stdout",
     "output_type": "stream",
     "text": [
      "Emma appeared 2 times\n"
     ]
    }
   ],
   "source": [
    "str_x = \"Emma is a good developer. Emma is a writer\"\n",
    "value = str_x.count(\"Emma\")\n",
    "print(f\"Emma appeared {value} times\")"
   ]
  },
  {
   "cell_type": "markdown",
   "id": "32c6e50a",
   "metadata": {},
   "source": [
    "#### Exercise 8: Print the following pattern"
   ]
  },
  {
   "cell_type": "code",
   "execution_count": 74,
   "id": "acfc69c0",
   "metadata": {},
   "outputs": [
    {
     "name": "stdout",
     "output_type": "stream",
     "text": [
      "1  \n",
      "2 2  \n",
      "3 3 3  \n",
      "4 4 4 4  \n",
      "5 5 5 5 5  \n"
     ]
    }
   ],
   "source": [
    "for i in range(1,6):\n",
    "    for j in range(i):\n",
    "        print(i, end =\" \")\n",
    "    print(\" \")"
   ]
  },
  {
   "cell_type": "markdown",
   "id": "cb548e89",
   "metadata": {},
   "source": [
    "#### Exercise 9: Check Palindrome Number"
   ]
  },
  {
   "cell_type": "code",
   "execution_count": null,
   "id": "191b1869",
   "metadata": {},
   "outputs": [],
   "source": []
  },
  {
   "cell_type": "code",
   "execution_count": 82,
   "id": "1142fa23",
   "metadata": {},
   "outputs": [
    {
     "name": "stdout",
     "output_type": "stream",
     "text": [
      "Enter the number to check the number is palindrom or not: raor\n",
      "It's not a palindrom number...\n"
     ]
    }
   ],
   "source": [
    "value = input(\"Enter the number to check the number is palindrom or not: \")\n",
    "reverse_value = value[::-1]\n",
    "if value == reverse_value:\n",
    "    print(\"The number is a palindrom Number.\")\n",
    "else:\n",
    "    print(\"It's not a palindrom number...\")"
   ]
  },
  {
   "cell_type": "code",
   "execution_count": 99,
   "id": "904de396",
   "metadata": {},
   "outputs": [
    {
     "name": "stdout",
     "output_type": "stream",
     "text": [
      "Enter the number to check palindrome or not.: asa\n",
      "The numebr is a palindrome numebr.\n",
      "Enter another number or type 'quit' to exit: quit\n",
      "exiting the program...\n"
     ]
    }
   ],
   "source": [
    "def palindrome(number):\n",
    "    while True:\n",
    "        if number.lower() == \"quit\":\n",
    "            print(\"exiting the program...\")\n",
    "            break\n",
    "        reverse = number[::-1]\n",
    "        if reverse == number:\n",
    "            print(\"The numebr is a palindrome numebr.\")\n",
    "        else:\n",
    "            print(\"The numebr is not a palindrome numebr.\")\n",
    "        number = input(\"Enter another number or type 'quit' to exit: \")\n",
    "number = input(\"Enter the number to check palindrome or not.: \")\n",
    "palindrome(number)\n"
   ]
  },
  {
   "cell_type": "markdown",
   "id": "e0ee0937",
   "metadata": {},
   "source": [
    "#### Exercise 10: Create a new list from two list using the following condition"
   ]
  },
  {
   "cell_type": "code",
   "execution_count": 105,
   "id": "94a16aaa",
   "metadata": {},
   "outputs": [
    {
     "name": "stdout",
     "output_type": "stream",
     "text": [
      "Enter the first list.: 1 2 3 4 5\n",
      "Enter the last lisat.: 12 13 14 15\n",
      "[1, 3, 5, 12, 14]\n"
     ]
    }
   ],
   "source": [
    "def mix_list(list1, list2):\n",
    "    result_list = []\n",
    "    for i in list1:\n",
    "        if i % 2 != 0:\n",
    "            result_list.append(i)\n",
    "    for i in list2:\n",
    "        if i % 2 == 0:\n",
    "            result_list.append(i)\n",
    "    return result_list\n",
    "\n",
    "list1 = [int(x) for x in input(\"Enter the first list.: \").split()]\n",
    "list2 = [int(x) for x in input(\"Enter the last lisat.: \").split()]\n",
    "print(mix_list(list1,list2))\n",
    "\n",
    "    "
   ]
  },
  {
   "cell_type": "markdown",
   "id": "86af5bc2",
   "metadata": {},
   "source": [
    "#### Exercise 11: Write a Program to extract each digit from an integer in the reverse order."
   ]
  },
  {
   "cell_type": "code",
   "execution_count": 106,
   "id": "f0ea9513",
   "metadata": {},
   "outputs": [
    {
     "name": "stdout",
     "output_type": "stream",
     "text": [
      "6 5 3 7 "
     ]
    }
   ],
   "source": [
    "value = 7356\n",
    "reverse = str(value)[::-1]\n",
    "for i in reverse:\n",
    "    print(i, end = \" \")"
   ]
  },
  {
   "cell_type": "code",
   "execution_count": 108,
   "id": "eceb0ec8",
   "metadata": {},
   "outputs": [
    {
     "name": "stdout",
     "output_type": "stream",
     "text": [
      "enter the numebr: asdf\n",
      "f d s a "
     ]
    }
   ],
   "source": [
    "value = input(\"enter the numebr: \")\n",
    "reverse = value[::-1]\n",
    "for i in reverse:\n",
    "    print(i, end = \" \")"
   ]
  },
  {
   "cell_type": "markdown",
   "id": "c12e8aea",
   "metadata": {},
   "source": [
    "#### Exercise 12: Calculate income tax for the given income by adhering to the rules below: "
   ]
  },
  {
   "cell_type": "code",
   "execution_count": 110,
   "id": "d36d15c8",
   "metadata": {},
   "outputs": [
    {
     "name": "stdout",
     "output_type": "stream",
     "text": [
      "Total tax to pay is : 6000.0\n"
     ]
    }
   ],
   "source": [
    "income = 45000\n",
    "tax = 0\n",
    "if income <= 10000:\n",
    "    tax = 0\n",
    "elif income <= 20000:\n",
    "    x = income -10000\n",
    "    tax = x * 10/ 100\n",
    "else:\n",
    "    tax = 0\n",
    "    tax = 10000 *10 /100\n",
    "    tax += (income-20000)* 20/100\n",
    "print(\"Total tax to pay is :\", tax)"
   ]
  },
  {
   "cell_type": "markdown",
   "id": "57d6f9f5",
   "metadata": {},
   "source": [
    "#### Exercise 13: Print multiplication table from 1 to 10"
   ]
  },
  {
   "cell_type": "code",
   "execution_count": 117,
   "id": "570dcbd7",
   "metadata": {},
   "outputs": [
    {
     "name": "stdout",
     "output_type": "stream",
     "text": [
      "1 2 3 4 5 6 7 8 9 10  \n",
      "2 4 6 8 10 12 14 16 18 20  \n",
      "3 6 9 12 15 18 21 24 27 30  \n",
      "4 8 12 16 20 24 28 32 36 40  \n",
      "5 10 15 20 25 30 35 40 45 50  \n",
      "6 12 18 24 30 36 42 48 54 60  \n",
      "7 14 21 28 35 42 49 56 63 70  \n",
      "8 16 24 32 40 48 56 64 72 80  \n",
      "9 18 27 36 45 54 63 72 81 90  \n",
      "10 20 30 40 50 60 70 80 90 100  \n"
     ]
    }
   ],
   "source": [
    "for i in range(1,11):\n",
    "    for j in range(1, 11):\n",
    "        multiply= i * j\n",
    "        print(multiply, end = \" \")\n",
    "    print(\" \")"
   ]
  },
  {
   "cell_type": "markdown",
   "id": "7f754b2a",
   "metadata": {},
   "source": [
    "#### Exercise 14: Print a downward Half-Pyramid Pattern of Star (asterisk)"
   ]
  },
  {
   "cell_type": "code",
   "execution_count": 121,
   "id": "832f08a8",
   "metadata": {},
   "outputs": [
    {
     "name": "stdout",
     "output_type": "stream",
     "text": [
      "* * * * * \n",
      "* * * * \n",
      "* * * \n",
      "* * \n",
      "* \n"
     ]
    }
   ],
   "source": [
    "for i in range(5,0,-1):\n",
    "    print(\"* \" * i)"
   ]
  },
  {
   "cell_type": "markdown",
   "id": "7c954e8b",
   "metadata": {},
   "source": [
    "#### Exercise 15: Write a function called exponent(base, exp) that returns an int value of base raises to the power of exp."
   ]
  },
  {
   "cell_type": "code",
   "execution_count": 123,
   "id": "03c7795e",
   "metadata": {},
   "outputs": [
    {
     "data": {
      "text/plain": [
       "8"
      ]
     },
     "execution_count": 123,
     "metadata": {},
     "output_type": "execute_result"
    }
   ],
   "source": [
    "def power(base, exponent):\n",
    "    result = base** exponent\n",
    "    return result\n",
    "power(base,exponent)"
   ]
  },
  {
   "cell_type": "code",
   "execution_count": 1,
   "id": "6f76429f",
   "metadata": {},
   "outputs": [
    {
     "name": "stdout",
     "output_type": "stream",
     "text": [
      "Enter the base number: 3\n",
      "Enter the exponent number4\n"
     ]
    },
    {
     "data": {
      "text/plain": [
       "81"
      ]
     },
     "execution_count": 1,
     "metadata": {},
     "output_type": "execute_result"
    }
   ],
   "source": [
    "def power(base, exp):\n",
    "    result = base** exp\n",
    "    return result\n",
    "base = int(input(\"Enter the base number: \"))\n",
    "exp = int(input(\"Enter the exponent number\"))\n",
    "power(base,exp)"
   ]
  },
  {
   "cell_type": "code",
   "execution_count": null,
   "id": "d39dee0f",
   "metadata": {},
   "outputs": [],
   "source": []
  }
 ],
 "metadata": {
  "kernelspec": {
   "display_name": "Python 3 (ipykernel)",
   "language": "python",
   "name": "python3"
  },
  "language_info": {
   "codemirror_mode": {
    "name": "ipython",
    "version": 3
   },
   "file_extension": ".py",
   "mimetype": "text/x-python",
   "name": "python",
   "nbconvert_exporter": "python",
   "pygments_lexer": "ipython3",
   "version": "3.11.5"
  }
 },
 "nbformat": 4,
 "nbformat_minor": 5
}
