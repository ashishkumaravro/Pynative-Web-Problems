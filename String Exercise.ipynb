{
 "cells": [
  {
   "cell_type": "markdown",
   "id": "5699e033",
   "metadata": {},
   "source": [
    "#### Exercise 1A: Create a string made of the first, middle and last character"
   ]
  },
  {
   "cell_type": "code",
   "execution_count": 12,
   "id": "42694d50",
   "metadata": {},
   "outputs": [
    {
     "name": "stdout",
     "output_type": "stream",
     "text": [
      "Enter the strings: ashish\n",
      "Original string:  ashish\n",
      "aih\n"
     ]
    }
   ],
   "source": [
    "input1 = input(\"Enter the strings: \")\n",
    "print(\"Original string: \",input1)\n",
    "firststr = input1[0]\n",
    "mid = int(len(input1)/2)\n",
    "res = str(input1[-1])\n",
    "print(firststr+input1[mid]+res)"
   ]
  },
  {
   "cell_type": "markdown",
   "id": "c88c1095",
   "metadata": {},
   "source": [
    "#### Exercise 1B: Create a string made of the middle three characters"
   ]
  },
  {
   "cell_type": "code",
   "execution_count": 3,
   "id": "3a3e5383",
   "metadata": {},
   "outputs": [
    {
     "name": "stdout",
     "output_type": "stream",
     "text": [
      "Original string is:  JhonDipPeta\n",
      "Middle there chars are:  Dip\n",
      "Original string is:  JaSonA\n",
      "Middle there chars are:  Son\n"
     ]
    }
   ],
   "source": [
    "def middle_case(str1):\n",
    "    print(\"Original string is: \",str1)\n",
    "    mid = int(len(str1)/2)\n",
    "    res = str1[mid - 1: mid + 2]\n",
    "    print(\"Middle there chars are: \",res)\n",
    "\n",
    "middle_case(\"JhonDipPeta\")\n",
    "middle_case(\"JaSonA\")"
   ]
  },
  {
   "cell_type": "code",
   "execution_count": 5,
   "id": "77e06ba6",
   "metadata": {},
   "outputs": [
    {
     "name": "stdout",
     "output_type": "stream",
     "text": [
      "Original string: \n",
      "shk\n"
     ]
    }
   ],
   "source": [
    "def middle_string(string1):\n",
    "    print(\"Original string: \")\n",
    "    mid = int(len(string1)/2)\n",
    "    result = string1[mid-1 : mid+2] # left site #right site\n",
    "    print(result)\n",
    "\n",
    "middle_string(\"Ashishkumar\")"
   ]
  },
  {
   "cell_type": "code",
   "execution_count": 11,
   "id": "0d9271bf",
   "metadata": {
    "scrolled": true
   },
   "outputs": [
    {
     "name": "stdout",
     "output_type": "stream",
     "text": [
      "Enter the strings: aasdfgh\n",
      "sdf\n"
     ]
    }
   ],
   "source": [
    "#### another way for the same problem\n",
    "def middle_three(str1):\n",
    "    if len(str1) < 3:\n",
    "        return \"String is too short.\"\n",
    "    \n",
    "    mid = len(str1)// 2\n",
    "    return str1[mid - 1: mid + 2]\n",
    "\n",
    "\n",
    "input1 = input(\"Enter the strings: \")\n",
    "print(middle_three(input1))"
   ]
  },
  {
   "cell_type": "markdown",
   "id": "640565b0",
   "metadata": {},
   "source": [
    "#### Exercise 2: Append new string in the middle of a given string\n"
   ]
  },
  {
   "cell_type": "code",
   "execution_count": 20,
   "id": "ed53c5fe",
   "metadata": {},
   "outputs": [
    {
     "name": "stdout",
     "output_type": "stream",
     "text": [
      "AuKellylt\n"
     ]
    }
   ],
   "source": [
    "s1 = \"Ault\"\n",
    "s2 = \"Kelly\"\n",
    "n = int(len(s1)/2)\n",
    "x = s1[:n:]\n",
    "x = x + s2\n",
    "x += s1[n:]\n",
    "\n",
    "print(x)"
   ]
  },
  {
   "cell_type": "code",
   "execution_count": 27,
   "id": "2ad98d67",
   "metadata": {},
   "outputs": [
    {
     "name": "stdout",
     "output_type": "stream",
     "text": [
      "Enter the strings: asdf\n",
      "Enter the last string: ghj\n",
      "asghjdf\n"
     ]
    }
   ],
   "source": [
    "s1 = input(\"Enter the strings: \")\n",
    "s2 = input(\"Enter the last string: \")\n",
    "\n",
    "s1divide = int(len(s1)/2)\n",
    "x = s1[:s1divide:] # get character from 0 to the middle index number from s1\n",
    "x += s2 # concatenate s2 to it\n",
    "x += s1[s1divide:]\n",
    "print(x)"
   ]
  },
  {
   "cell_type": "code",
   "execution_count": 14,
   "id": "a5a30f05",
   "metadata": {},
   "outputs": [
    {
     "name": "stdout",
     "output_type": "stream",
     "text": [
      "Enter the first string: ashish\n",
      "Enter the string that you add into the first string: nipu\n",
      "After appending:  ashnipuish\n"
     ]
    }
   ],
   "source": [
    "def append_middle(s1,s2):\n",
    "    mid = int(len(s1)/2)\n",
    "    x = s1[:mid]\n",
    "    x = x + s2\n",
    "    x = x + s1[mid:]\n",
    "    print(\"After appending: \",x)\n",
    "    \n",
    "s1 = input(\"Enter the first string: \")\n",
    "s2 = input(\"Enter the string that you add into the first string: \")\n",
    "append_middle(s1, s2)"
   ]
  },
  {
   "cell_type": "markdown",
   "id": "2bc2ed81",
   "metadata": {},
   "source": [
    "#### Exercise 3: Create a new string made of the first, middle, and last characters of each input string"
   ]
  },
  {
   "cell_type": "code",
   "execution_count": 16,
   "id": "8cd4b3f5",
   "metadata": {},
   "outputs": [
    {
     "name": "stdout",
     "output_type": "stream",
     "text": [
      "Enter the first string: ashish\n",
      "Enter the last string: rabbi\n",
      "the new f_m_l string is: aribhi\n"
     ]
    }
   ],
   "source": [
    "def fml(s1,s2):\n",
    "    mid1 = int(len(s1)/2)\n",
    "    mid2 = int(len(s2)/2)\n",
    "    result = s1[0] + s2[0] + s1[mid1] + s2[mid2] + s1[-1] + s2[-1]\n",
    "    return result\n",
    "\n",
    "inp1 = input(\"Enter the first string: \")\n",
    "inp2 = input(\"Enter the last string: \")\n",
    "print(f\"the new f_m_l string is: {fml(inp1, inp2)}\")"
   ]
  },
  {
   "cell_type": "code",
   "execution_count": 19,
   "id": "5fe13efd",
   "metadata": {},
   "outputs": [
    {
     "name": "stdout",
     "output_type": "stream",
     "text": [
      "ARibhi\n"
     ]
    }
   ],
   "source": [
    "def append_str(s1,s2):\n",
    "    first = s1[0] + s2[0]\n",
    "    middle = s1[int(len(s1)/2)] + s2[int(len(s2)/2)]\n",
    "    last = s1[-1] + s2[-1]\n",
    "    result = first + middle + last\n",
    "    return result\n",
    "    \n",
    "print(append_str(\"Ashish\", \"Rabbi\"))"
   ]
  },
  {
   "cell_type": "markdown",
   "id": "1eea2387",
   "metadata": {},
   "source": [
    "#### Exercise 4: Arrange string characters such that lowercase letters should come first"
   ]
  },
  {
   "cell_type": "code",
   "execution_count": 39,
   "id": "784af680",
   "metadata": {},
   "outputs": [
    {
     "name": "stdout",
     "output_type": "stream",
     "text": [
      "Enter the stirng with upper case and lower case: AshishKumarNipu\n",
      "shishumaripuAKN\n"
     ]
    }
   ],
   "source": [
    "### Arrange string characters such that lowercase letters should come first\n",
    "value = input(\"Enter the stirng with upper case and lower case: \")\n",
    "lower = []\n",
    "upper = []\n",
    "\n",
    "for i in value:\n",
    "    if i.islower():\n",
    "        lower.append(i)\n",
    "    else:\n",
    "        upper.append(i)\n",
    "output = ''.join(lower + upper)\n",
    "print(output)"
   ]
  },
  {
   "cell_type": "code",
   "execution_count": 22,
   "id": "3e6b38bc",
   "metadata": {},
   "outputs": [
    {
     "name": "stdout",
     "output_type": "stream",
     "text": [
      "Enter the string: Ashish\n",
      "('Lower first: ', 'shishA')\n"
     ]
    }
   ],
   "source": [
    "def lower_first(string1):\n",
    "    lower = []\n",
    "    upper = []\n",
    "    for char in string1:\n",
    "        if char.islower():\n",
    "            lower.append(char)\n",
    "        else:\n",
    "            upper.append(char)\n",
    "    output = ''.join(lower + upper)\n",
    "    return(\"Lower first: \",output)\n",
    "\n",
    "value1 = input(\"Enter the string: \")\n",
    "print(lower_first(value1))\n",
    "            "
   ]
  },
  {
   "cell_type": "code",
   "execution_count": 35,
   "id": "7532a4a9",
   "metadata": {},
   "outputs": [
    {
     "name": "stdout",
     "output_type": "stream",
     "text": [
      "Enter the string with upper case and lower case: asASDFjkl\n",
      "asjklASDF\n"
     ]
    }
   ],
   "source": [
    "##### Another way\n",
    "value = input(\"Enter the string with upper case and lower case: \")\n",
    "output = ''.join(sorted(value, key=str.isupper))\n",
    "print(output)\n"
   ]
  },
  {
   "cell_type": "markdown",
   "id": "22d6a3e7",
   "metadata": {},
   "source": [
    "#### Exercise 5: Count all letters, digits, and special symbols from a given string"
   ]
  },
  {
   "cell_type": "code",
   "execution_count": 3,
   "id": "a298cf24",
   "metadata": {
    "scrolled": true
   },
   "outputs": [
    {
     "name": "stdout",
     "output_type": "stream",
     "text": [
      "Enter the input: asg=hu=123\n",
      "Length of string:  10\n",
      "Characters: 5, Digits: 3, Symbols: 2\n"
     ]
    }
   ],
   "source": [
    "def count_all(str1):\n",
    "    chars = 0\n",
    "    digits = 0\n",
    "    symbol = 0\n",
    "    print(\"Length of string: \", len(str1))\n",
    "    for char in str1:\n",
    "        if char.isalpha():\n",
    "            chars += 1\n",
    "        elif char.isdigit():\n",
    "            digits += 1\n",
    "        else:\n",
    "            symbol +=1\n",
    "    print(f\"Characters: {chars}, Digits: {digits}, Symbols: {symbol}\")\n",
    "    \n",
    "input1 = input(\"Enter the input: \")\n",
    "count_all(input1)"
   ]
  },
  {
   "cell_type": "markdown",
   "id": "157356db",
   "metadata": {},
   "source": [
    "#### Exercise 6: Create a mixed String using the following rules"
   ]
  },
  {
   "cell_type": "code",
   "execution_count": 10,
   "id": "ca2361f7",
   "metadata": {},
   "outputs": [
    {
     "name": "stdout",
     "output_type": "stream",
     "text": [
      "Enter the first string: abcde\n",
      "Enter the last string: fgh\n",
      "ahbgcfde\n"
     ]
    }
   ],
   "source": [
    "def mixed_string(s1,s2):\n",
    "    len1 = len(s1)\n",
    "    len2 = len(s2)\n",
    "    length = max(len1, len2)\n",
    "    result = \"\"\n",
    "    s2 = s2[::-1]\n",
    "    for i in range(length):\n",
    "        if i < len1:\n",
    "            result += s1[i]\n",
    "        if i < len2:\n",
    "            result += s2[i]\n",
    "    return result\n",
    "\n",
    "inp1 = input(\"Enter the first string: \")\n",
    "inp2 = input(\"Enter the last string: \")\n",
    "print(mixed_string(inp1, inp2))"
   ]
  },
  {
   "cell_type": "code",
   "execution_count": 9,
   "id": "05eb4ad6",
   "metadata": {},
   "outputs": [
    {
     "name": "stdout",
     "output_type": "stream",
     "text": [
      "Enter the string: abcde\n",
      "Enter the last string: fgh\n",
      "ahbgcfde\n"
     ]
    }
   ],
   "source": [
    "#### \n",
    "def mixed_string(s1,s2):\n",
    "    len1 = len(s1)\n",
    "    len2 = len(s2)\n",
    "    length = len1 if len1 > len2 else len2\n",
    "    s2 = s2[::-1]\n",
    "    result = \"\"\n",
    "    \n",
    "    for i in range(length):\n",
    "        if i < len1:\n",
    "            result += s1[i]\n",
    "        if i < len2:\n",
    "            result += s2[i]\n",
    "    return result\n",
    "\n",
    "string1 = input(\"Enter the string: \")\n",
    "string2 = input(\"Enter the last string: \")\n",
    "\n",
    "print(mixed_string(string1, string2))\n",
    "    "
   ]
  },
  {
   "cell_type": "code",
   "execution_count": 7,
   "id": "660c3cf4",
   "metadata": {},
   "outputs": [
    {
     "name": "stdout",
     "output_type": "stream",
     "text": [
      "Enter the first string: 1234\n",
      "Enter the last string: 5678\n",
      "18273645\n"
     ]
    }
   ],
   "source": [
    "# Define a function named mixed_string that takes two input strings s1 and s2\n",
    "def mixed_string(s1, s2):\n",
    "    # Calculate the length of string s1\n",
    "    len1 = len(s1)\n",
    "    # Calculate the length of string s2\n",
    "    len2 = len(s2)\n",
    "    # Determine the maximum length between len1 and len2\n",
    "    length = len1 if len1 > len2 else len2\n",
    "    # Initialize an empty string to store the result\n",
    "    result = \"\"\n",
    "    # Reverse the string s2\n",
    "    s2 = s2[::-1]\n",
    "    \n",
    "    # Iterate through the range of the maximum length\n",
    "    for i in range(length):\n",
    "        # Append character from s1 if index i is within the bounds of s1\n",
    "        if i < len1:\n",
    "            result += s1[i]\n",
    "        # Append character from reversed s2 if index i is within the bounds of s2\n",
    "        if i < len2:\n",
    "            result += s2[i]\n",
    "    \n",
    "    # Return the final mixed string result\n",
    "    return result\n",
    "\n",
    "# Get input strings from the user\n",
    "inp1 = input(\"Enter the first string: \")\n",
    "inp2 = input(\"Enter the last string: \")\n",
    "# Call the mixed_string function with user input strings and print the result\n",
    "print(mixed_string(inp1, inp2))"
   ]
  },
  {
   "cell_type": "markdown",
   "id": "a7985489",
   "metadata": {},
   "source": [
    "#### Exercise 7: String characters balance Test"
   ]
  },
  {
   "cell_type": "code",
   "execution_count": null,
   "id": "25059551",
   "metadata": {},
   "outputs": [],
   "source": []
  },
  {
   "cell_type": "code",
   "execution_count": 13,
   "id": "69b4b170",
   "metadata": {},
   "outputs": [
    {
     "name": "stdout",
     "output_type": "stream",
     "text": [
      "Enrer the first input: ku\n",
      "Enter the string: kumar is my last name\n",
      "Balance test:  True\n"
     ]
    }
   ],
   "source": [
    "def balance_check(s1,s2):\n",
    "    result = True\n",
    "    for i in s1:\n",
    "        if i in s2:\n",
    "            continue\n",
    "        else:\n",
    "            result = False\n",
    "    return result\n",
    "\n",
    "v1 = input(\"Enrer the first input: \")\n",
    "v2 = input(\"Enter the string: \")\n",
    "output = balance_check(v1, v2)\n",
    "print(\"Balance test: \", output)"
   ]
  },
  {
   "cell_type": "code",
   "execution_count": 16,
   "id": "6665f39f",
   "metadata": {},
   "outputs": [
    {
     "name": "stdout",
     "output_type": "stream",
     "text": [
      "s1 and s2 are balanced: True\n",
      "s1 and s2 are balanced: False\n"
     ]
    }
   ],
   "source": [
    "def string_balance_test(s1, s2):\n",
    "    flag = True\n",
    "    for char in s1:\n",
    "        if char in s2:\n",
    "            continue\n",
    "        else:\n",
    "            flag = False\n",
    "    return flag\n",
    "\n",
    "\n",
    "s1 = \"Yn\"\n",
    "s2 = \"PYnative\"\n",
    "flag = string_balance_test(s1, s2)\n",
    "print(\"s1 and s2 are balanced:\", flag)\n",
    "\n",
    "s1 = \"Ynf\"\n",
    "s2 = \"PYnative\"\n",
    "flag = string_balance_test(s1, s2)\n",
    "print(\"s1 and s2 are balanced:\", flag)"
   ]
  },
  {
   "cell_type": "markdown",
   "id": "f48f5940",
   "metadata": {},
   "source": [
    "#### Exercise 8: Find all occurrences of a substring in a given string by ignoring the case."
   ]
  },
  {
   "cell_type": "code",
   "execution_count": 28,
   "id": "ec223d39",
   "metadata": {},
   "outputs": [
    {
     "name": "stdout",
     "output_type": "stream",
     "text": [
      "Enter the first string: ash ash ash\n",
      "Enter the string that you want to count:  ash\n",
      "The substring 'ash' occurs 3 times in the given string.\n"
     ]
    }
   ],
   "source": [
    "#### Find all occurrences of a substring in a given string by ignoring the case.\n",
    "def finding_substring(str1, str2):\n",
    "    lower1 = str1.lower()\n",
    "    lower2 = str2.lower()\n",
    "    \n",
    "    count = lower1.count(lower2)\n",
    "    \n",
    "    if count > 0:\n",
    "        \n",
    "        return f\"The substring '{str2}' occurs {count} times in the given string.\"\n",
    "    else:\n",
    "        return f\"The substring '{str2}' is not found in the given string.\"\n",
    "    \n",
    "inp1 = input(\"Enter the first string: \")\n",
    "inp2 = input(\"Enter the string that you want to count:  \")\n",
    "output = finding_substring(inp1, inp2)\n",
    "print(output)"
   ]
  },
  {
   "cell_type": "code",
   "execution_count": 32,
   "id": "675d0826",
   "metadata": {},
   "outputs": [
    {
     "name": "stdout",
     "output_type": "stream",
     "text": [
      "Enter the first input: hello hello hello hi how are you\n",
      "Enter the last input: ashish\n",
      "The substring: ashish is not found in the given string.\n"
     ]
    }
   ],
   "source": [
    "str1 = input(\"Enter the first input: \")\n",
    "str2 = input(\"Enter the last input: \")\n",
    "lower1 = str1.lower()\n",
    "lower2 = str2.lower() \n",
    "count = lower1.count(lower2)\n",
    "\n",
    "if count > 0:\n",
    "    print(f\"The substring: {str2} occurs {count} times in the given string.\")\n",
    "else:\n",
    "    print(f\"The substring: {str2} is not found in the given string.\")\n"
   ]
  },
  {
   "cell_type": "markdown",
   "id": "1c4e2b98",
   "metadata": {},
   "source": [
    "### Exercise 9: Calculate the sum and average of the digits present in a string"
   ]
  },
  {
   "cell_type": "code",
   "execution_count": 5,
   "id": "bc170ee8",
   "metadata": {
    "scrolled": true
   },
   "outputs": [
    {
     "name": "stdout",
     "output_type": "stream",
     "text": [
      "Enter the first string include digits: hey, I earn 1000 taka today\n",
      "Sum is: 1 and average is: 0.25\n"
     ]
    }
   ],
   "source": [
    "def digits_in_string(str1):\n",
    "    total = 0\n",
    "    count = 0\n",
    "    average = 0\n",
    "    \n",
    "    for digit in str1:\n",
    "        if digit.isdigit():\n",
    "            total += int(digit)\n",
    "            count += 1\n",
    "    if count > 0:\n",
    "        average = total/ count\n",
    "    return(f\"Sum is: {total} and average is: {average}\") \n",
    "\n",
    "inp1 = input(\"Enter the first string include digits: \")\n",
    "print(digits_in_string(inp1))"
   ]
  },
  {
   "cell_type": "code",
   "execution_count": 6,
   "id": "32521195",
   "metadata": {},
   "outputs": [
    {
     "name": "stdout",
     "output_type": "stream",
     "text": [
      "Enter the input: hey i earn 1000 taka today\n",
      "sum is: 1, Average is: 0.25 \n"
     ]
    }
   ],
   "source": [
    "string = input(\"Enter the input: \")\n",
    "total = 0\n",
    "count = 0\n",
    "for number in string:\n",
    "    if number.isdigit():\n",
    "        total += int(number)\n",
    "        count += 1\n",
    "average = total/count\n",
    "print(f\"sum is: {total}, Average is: {average} \") \n"
   ]
  },
  {
   "cell_type": "code",
   "execution_count": 6,
   "id": "9ed93d69",
   "metadata": {},
   "outputs": [
    {
     "name": "stdout",
     "output_type": "stream",
     "text": [
      "enter the string to calculate: asdf123dfaf\n",
      "sum is:  6 average is:  2.0\n"
     ]
    }
   ],
   "source": [
    "input1 = input(\"enter the string to calculate: \")\n",
    "total = 0\n",
    "count = 0\n",
    "for number in input1:\n",
    "    if number.isdigit():\n",
    "        total = total+int(number)\n",
    "        count = count+ 1\n",
    "average = total/count\n",
    "print(\"sum is: \",total , \"average is: \", average)"
   ]
  },
  {
   "cell_type": "code",
   "execution_count": 2,
   "id": "2bd7f938",
   "metadata": {},
   "outputs": [
    {
     "name": "stdout",
     "output_type": "stream",
     "text": [
      "Enter the string: apefio1234sldf\n",
      "digits:  [1, 2, 3, 4]\n",
      "Sum is:  10 Average is  2.5\n"
     ]
    }
   ],
   "source": [
    "# ===================problem here=============\n",
    "import re\n",
    "\n",
    "input_str = input(\"Enter the string: \")\n",
    "digit_list = [int(num) for num in re.findall(r'\\d', input_str)]\n",
    "\n",
    "print(\"digits: \", digit_list)\n",
    "\n",
    "total = sum(digit_list)\n",
    "average = total / len(digit_list)\n",
    "print(\"Sum is: \", total, \"Average is \", average)\n"
   ]
  },
  {
   "cell_type": "markdown",
   "id": "22e7f035",
   "metadata": {},
   "source": [
    "#### Exercise 10: Write a program to count occurrences of all characters within a string"
   ]
  },
  {
   "cell_type": "code",
   "execution_count": 7,
   "id": "4c722fc8",
   "metadata": {},
   "outputs": [
    {
     "name": "stdout",
     "output_type": "stream",
     "text": [
      "Enter the string to count: ashish\n",
      "result:  {'a': 1, 's': 2, 'h': 2, 'i': 1}\n"
     ]
    }
   ],
   "source": [
    "def count_all_string(str1):\n",
    "    count_dict = dict()\n",
    "    for char in str1:\n",
    "        count = str1.count(char)\n",
    "        count_dict[char] = count\n",
    "    print(\"result: \", count_dict)\n",
    "\n",
    "input1 = input(\"Enter the string to count: \")\n",
    "count_all_string(input1)\n",
    "        "
   ]
  },
  {
   "cell_type": "markdown",
   "id": "435c4156",
   "metadata": {},
   "source": [
    "#### Exercise 11: Reverse a given string\n",
    "\n"
   ]
  },
  {
   "cell_type": "code",
   "execution_count": 18,
   "id": "e2adf06a",
   "metadata": {},
   "outputs": [
    {
     "name": "stdout",
     "output_type": "stream",
     "text": [
      "evitanYP\n"
     ]
    }
   ],
   "source": [
    "string1 = \"PYnative\"\n",
    "string2 = \"\".join(reversed(string1))\n",
    "print(string2)"
   ]
  },
  {
   "cell_type": "code",
   "execution_count": 14,
   "id": "860e8164",
   "metadata": {},
   "outputs": [
    {
     "name": "stdout",
     "output_type": "stream",
     "text": [
      "Enter the string: ashish\n",
      "Main string:  ashish\n",
      "hsihsa\n"
     ]
    }
   ],
   "source": [
    "### another way\n",
    "string1 = input(\"Enter the string: \")\n",
    "print(\"Main string: \",string1)\n",
    "revers = string1[::-1]\n",
    "print(revers)"
   ]
  },
  {
   "cell_type": "code",
   "execution_count": 17,
   "id": "2a3cb721",
   "metadata": {
    "scrolled": true
   },
   "outputs": [
    {
     "name": "stdout",
     "output_type": "stream",
     "text": [
      "Enter the string for reverse: ashish kumar\n",
      "Reverse string:  ramuk hsihsa\n"
     ]
    }
   ],
   "source": [
    "def reverse_string(string1):\n",
    "    string1 = ''.join(reversed(string1))\n",
    "    print(\"Reverse string: \", string1)\n",
    "    \n",
    "input1 = input(\"Enter the string for reverse: \")\n",
    "reverse_string(input1)"
   ]
  },
  {
   "cell_type": "markdown",
   "id": "048e8c07",
   "metadata": {},
   "source": [
    "#### Exercise 12: Find the last position of a given substring"
   ]
  },
  {
   "cell_type": "code",
   "execution_count": 20,
   "id": "d53966a6",
   "metadata": {},
   "outputs": [
    {
     "name": "stdout",
     "output_type": "stream",
     "text": [
      "Enter the string input: ashish kumar is a famous buisness man of Bangladesh. he was make a deal with Elon musk\n",
      "Enter the substring to check: deal\n",
      "Last position of given substring is:  67\n"
     ]
    }
   ],
   "source": [
    "str1 = input(\"Enter the string input: \")\n",
    "substr = input(\"Enter the substring to check: \")\n",
    "index = str1.rfind(substr)\n",
    "print(\"Last position of given substring is: \",index)"
   ]
  },
  {
   "cell_type": "code",
   "execution_count": 27,
   "id": "4b1a2bb0",
   "metadata": {},
   "outputs": [
    {
     "name": "stdout",
     "output_type": "stream",
     "text": [
      "Enter the string input: hello world. i'm ashish kumar, and you?\n",
      "Enter the substring to check: and\n",
      "Last position of given substring is:  31\n"
     ]
    }
   ],
   "source": [
    "#### with error handeling\n",
    "str1 = input(\"Enter the string input: \")\n",
    "substr = input(\"Enter the substring to check: \")\n",
    "index = str1.rfind(substr)\n",
    "if substr  in str1:\n",
    "    print(\"Last position of given substring is: \",index)\n",
    "else:\n",
    "    print(\"Please Enter the valid substring that available in the string.\")"
   ]
  },
  {
   "cell_type": "code",
   "execution_count": 28,
   "id": "bb7da21c",
   "metadata": {},
   "outputs": [
    {
     "name": "stdout",
     "output_type": "stream",
     "text": [
      "Enter the string input: hello world. i'm in dhaka\n",
      "Enter the substring to check: ashish\n",
      "Please Enter the valid substring that available in the string.\n",
      "Enter the substring to check: kumar\n",
      "Please Enter the valid substring that available in the string.\n",
      "Enter the substring to check: dhaka\n",
      "Last position of given substring is:  20\n"
     ]
    }
   ],
   "source": [
    "#### another way error handeling\n",
    "str1 = input(\"Enter the string input: \")\n",
    "while True:\n",
    "    substr = input(\"Enter the substring to check: \")\n",
    "    index = str1.rfind(substr)\n",
    "    if substr  in str1:\n",
    "        print(\"Last position of given substring is: \",index)\n",
    "        break\n",
    "    else:\n",
    "        print(\"Please Enter the valid substring that available in the string.\")"
   ]
  },
  {
   "cell_type": "code",
   "execution_count": 28,
   "id": "c0d9354f",
   "metadata": {},
   "outputs": [
    {
     "name": "stdout",
     "output_type": "stream",
     "text": [
      "Enter the string input: hello world. i'm in dhaka\n",
      "Enter the substring to check: ashish\n",
      "Please Enter the valid substring that available in the string.\n",
      "Enter the substring to check: kumar\n",
      "Please Enter the valid substring that available in the string.\n",
      "Enter the substring to check: dhaka\n",
      "Last position of given substring is:  20\n"
     ]
    }
   ],
   "source": [
    "#### another way error handeling\n",
    "str1 = input(\"Enter the string input: \")\n",
    "while True:\n",
    "    substr = input(\"Enter the substring to check: \")\n",
    "    index = str1.rfind(substr)\n",
    "    if substr  in str1:\n",
    "        print(\"Last position of given substring is: \",index)\n",
    "        break\n",
    "    else:\n",
    "        print(\"Please Enter the valid substring that available in the string.\")"
   ]
  },
  {
   "cell_type": "markdown",
   "id": "4c52909d",
   "metadata": {},
   "source": [
    "#### Exercise 13: Split a string on hyphens\n",
    "Write a program to split a given string on hyphens and display each substring."
   ]
  },
  {
   "cell_type": "code",
   "execution_count": 41,
   "id": "67a073a9",
   "metadata": {},
   "outputs": [
    {
     "name": "stdout",
     "output_type": "stream",
     "text": [
      "Displaying each substring: \n",
      "Emma\n",
      "is\n",
      "a\n",
      "data\n",
      "scientist\n"
     ]
    }
   ],
   "source": [
    "str1 = \"Emma-is-a-data-scientist\"\n",
    "str2 = str1.split(\"-\")\n",
    "print(\"Displaying each substring: \")\n",
    "for substr in str2:\n",
    "    print(substr)\n"
   ]
  },
  {
   "cell_type": "code",
   "execution_count": 1,
   "id": "835d07ad",
   "metadata": {},
   "outputs": [
    {
     "name": "stdout",
     "output_type": "stream",
     "text": [
      "Emma\n",
      "is\n",
      "a\n",
      "data\n",
      "scientist\n"
     ]
    }
   ],
   "source": [
    "str1 = \"Emma-is-a-data-scientist\"\n",
    "str2 = str1.split(\"-\")\n",
    "for i in str2:\n",
    "    print(i)"
   ]
  },
  {
   "cell_type": "markdown",
   "id": "1b43ceda",
   "metadata": {},
   "source": [
    "#### Exercise 14: Remove empty strings from a list of strings"
   ]
  },
  {
   "cell_type": "code",
   "execution_count": 7,
   "id": "cd217a10",
   "metadata": {},
   "outputs": [
    {
     "ename": "TypeError",
     "evalue": "'str' object is not callable",
     "output_type": "error",
     "traceback": [
      "\u001b[1;31m---------------------------------------------------------------------------\u001b[0m",
      "\u001b[1;31mTypeError\u001b[0m                                 Traceback (most recent call last)",
      "Cell \u001b[1;32mIn[7], line 3\u001b[0m\n\u001b[0;32m      1\u001b[0m jon \u001b[38;5;241m=\u001b[39m \u001b[38;5;124m\"\u001b[39m\u001b[38;5;124m\"\u001b[39m\n\u001b[0;32m      2\u001b[0m str_list \u001b[38;5;241m=\u001b[39m [\u001b[38;5;124m\"\u001b[39m\u001b[38;5;124mEmma\u001b[39m\u001b[38;5;124m\"\u001b[39m, \u001b[38;5;124m\"\u001b[39m\u001b[38;5;124mJon\u001b[39m\u001b[38;5;124m\"\u001b[39m, \u001b[38;5;124m\"\u001b[39m\u001b[38;5;124m\"\u001b[39m,\u001b[38;5;28;01mNone\u001b[39;00m, \u001b[38;5;124m\"\u001b[39m\u001b[38;5;124mKelly\u001b[39m\u001b[38;5;124m\"\u001b[39m, \u001b[38;5;28;01mNone\u001b[39;00m, \u001b[38;5;124m\"\u001b[39m\u001b[38;5;124mEric\u001b[39m\u001b[38;5;124m\"\u001b[39m, \u001b[38;5;124m\"\u001b[39m\u001b[38;5;124m\"\u001b[39m]\n\u001b[1;32m----> 3\u001b[0m res_list \u001b[38;5;241m=\u001b[39m \u001b[38;5;28mlist\u001b[39m(\u001b[38;5;28mfilter\u001b[39m(jon,str_list))\n\u001b[0;32m      4\u001b[0m \u001b[38;5;28mprint\u001b[39m(\u001b[38;5;124m\"\u001b[39m\u001b[38;5;124mAfter removeing empty string: \u001b[39m\u001b[38;5;124m\"\u001b[39m)\n\u001b[0;32m      5\u001b[0m \u001b[38;5;28mprint\u001b[39m(res_list)\n",
      "\u001b[1;31mTypeError\u001b[0m: 'str' object is not callable"
     ]
    }
   ],
   "source": [
    "jon = \n",
    "str_list = [\"Emma\", \"Jon\", \"\",None, \"Kelly\", None, \"Eric\", \"\"]\n",
    "res_list = list(filter(jon,str_list))\n",
    "print(\"After removeing empty string: \")\n",
    "print(res_list)"
   ]
  },
  {
   "cell_type": "code",
   "execution_count": 45,
   "id": "6c71d647",
   "metadata": {},
   "outputs": [
    {
     "name": "stdout",
     "output_type": "stream",
     "text": [
      "['Emma', 'Jon', 'Kelly', 'Eric']\n"
     ]
    }
   ],
   "source": [
    "str_list = [\"Emma\", \"Jon\", \"\", \"Kelly\", None, \"Eric\", \"\"]\n",
    "res_list = []\n",
    "\n",
    "for empchar in str_list:\n",
    "    if empchar:\n",
    "        res_list.append(empchar)\n",
    "print(res_list)"
   ]
  },
  {
   "cell_type": "code",
   "execution_count": 8,
   "id": "996b12b2",
   "metadata": {},
   "outputs": [
    {
     "name": "stdout",
     "output_type": "stream",
     "text": [
      "After removing empty strings:\n",
      "['Emma', 'Jon', 'Kelly', 'Eric']\n"
     ]
    }
   ],
   "source": [
    "jon = lambda x: x and True\n",
    "str_list = [\"Emma\", \"Jon\", \"\", None, \"Kelly\", None, \"Eric\", \"\"]\n",
    "res_list = list(filter(jon, str_list))\n",
    "print(\"After removing empty strings:\")\n",
    "print(res_list)\n"
   ]
  },
  {
   "cell_type": "markdown",
   "id": "23116b0a",
   "metadata": {},
   "source": [
    "#### Exercise 15: Remove special symbols / punctuation from a string"
   ]
  },
  {
   "cell_type": "code",
   "execution_count": 49,
   "id": "b396dd33",
   "metadata": {},
   "outputs": [
    {
     "name": "stdout",
     "output_type": "stream",
     "text": [
      "New string is:  Jon is developer  musician\n"
     ]
    }
   ],
   "source": [
    "import string\n",
    "\n",
    "str1 = \"/*Jon is @developer & musician\"\n",
    "result = str1.translate(str.maketrans('','',string.punctuation))\n",
    "\n",
    "print(\"New string is: \", result)"
   ]
  },
  {
   "cell_type": "code",
   "execution_count": 3,
   "id": "9a03a4d7",
   "metadata": {},
   "outputs": [
    {
     "name": "stdout",
     "output_type": "stream",
     "text": [
      "Original string is:  /*Jon is @developer & musician\n",
      "New string is:  Jon is developer  musician\n"
     ]
    }
   ],
   "source": [
    "import re\n",
    "\n",
    "str1 = \"/*Jon is @developer & musician\"\n",
    "print(\"Original string is: \",str1)\n",
    "res = re.sub(r'[^\\w\\s]', '',str1)\n",
    "print(\"New string is: \", res)"
   ]
  },
  {
   "cell_type": "markdown",
   "id": "b0e13eeb",
   "metadata": {},
   "source": [
    "#### Exercise 16: Removal all characters from a string except integers"
   ]
  },
  {
   "cell_type": "code",
   "execution_count": 1,
   "id": "1d0fce70",
   "metadata": {},
   "outputs": [
    {
     "name": "stdout",
     "output_type": "stream",
     "text": [
      "2510\n"
     ]
    }
   ],
   "source": [
    "str1 = 'I am 25 years and 10 months old'\n",
    "res = \"\".join([item for item in str1 if item.isdigit()])\n",
    "print(res)"
   ]
  },
  {
   "cell_type": "code",
   "execution_count": 10,
   "id": "31a696a8",
   "metadata": {},
   "outputs": [
    {
     "name": "stdout",
     "output_type": "stream",
     "text": [
      "2510\n"
     ]
    }
   ],
   "source": [
    "###### Another way with dev function\n",
    "def remove_non_integers(string):\n",
    "    result = \"\"\n",
    "    for char in string:\n",
    "        if char.isdigit():\n",
    "            result += char\n",
    "    return result\n",
    "\n",
    "str1 = 'I am 25 years and 10 months old'\n",
    "\n",
    "output = remove_non_integers(str1)\n",
    "print(output)    "
   ]
  },
  {
   "cell_type": "markdown",
   "id": "08c0cdbd",
   "metadata": {},
   "source": [
    "#### Exercise 17: Find words with both alphabets and numbers"
   ]
  },
  {
   "cell_type": "code",
   "execution_count": 8,
   "id": "e423678a",
   "metadata": {},
   "outputs": [
    {
     "name": "stdout",
     "output_type": "stream",
     "text": [
      "The original string is:  Emma25 is Data scientist50 and AI Expert\n",
      "Displaying words with alphabets and numbers\n",
      "Emma25\n",
      "scientist50\n"
     ]
    }
   ],
   "source": [
    "str1 = \"Emma25 is Data scientist50 and AI Expert\"\n",
    "print(\"The original string is: \", str1)\n",
    "\n",
    "result = []\n",
    "temp = str1.split(\" \")\n",
    "\n",
    "for word in temp:\n",
    "    if any(char.isalpha() for char in word) and any(char.isdigit() for char in word):\n",
    "        result.append(word)\n",
    "        \n",
    "print(\"Displaying words with alphabets and numbers\")\n",
    "for i in result:\n",
    "    print(i)\n"
   ]
  },
  {
   "cell_type": "code",
   "execution_count": 10,
   "id": "f88a8d34",
   "metadata": {
    "scrolled": true
   },
   "outputs": [
    {
     "name": "stdout",
     "output_type": "stream",
     "text": [
      "Enter the text-with-number: hello100 world1. today we are in the largest no01 crouded city in the world. The name of this city is Dhaka1010\n",
      "displaying words with alphabets and numbers: \n",
      "hello100\n",
      "world1.\n",
      "no01\n",
      "Dhaka1010\n"
     ]
    }
   ],
   "source": [
    "#### \n",
    "\n",
    "str1 = input(\"Enter the text-with-number: \")\n",
    "result = []\n",
    "\n",
    "temp = str1.split(\" \")\n",
    "\n",
    "for value in temp:\n",
    "    if any(char.isdigit() for char in value) and any(char.isalpha() for char in value):\n",
    "        result.append(value)\n",
    "print(\"displaying words with alphabets and numbers: \")\n",
    "\n",
    "for i in result:\n",
    "    print(i)"
   ]
  },
  {
   "cell_type": "markdown",
   "id": "00620ea0",
   "metadata": {},
   "source": [
    "#### Exercise 18: Replace each special symbol with # in the following string"
   ]
  },
  {
   "cell_type": "code",
   "execution_count": 16,
   "id": "b832a694",
   "metadata": {},
   "outputs": [
    {
     "name": "stdout",
     "output_type": "stream",
     "text": [
      "The original string is:  /*Jon is@developer & musician!!\n",
      "The  string after replacement:  ##Jon is#developer # musician##\n"
     ]
    }
   ],
   "source": [
    "import string\n",
    "\n",
    "str1 = '/*Jon is@developer & musician!!'\n",
    "print(\"The original string is: \", str1)\n",
    "replace_char = \"#\"\n",
    "\n",
    "for char in string.punctuation:\n",
    "    str1 = str1.replace(char,replace_char)\n",
    "print(\"The  string after replacement: \", str1)\n"
   ]
  },
  {
   "cell_type": "code",
   "execution_count": null,
   "id": "ebaa7f45",
   "metadata": {},
   "outputs": [],
   "source": []
  }
 ],
 "metadata": {
  "kernelspec": {
   "display_name": "Python 3 (ipykernel)",
   "language": "python",
   "name": "python3"
  },
  "language_info": {
   "codemirror_mode": {
    "name": "ipython",
    "version": 3
   },
   "file_extension": ".py",
   "mimetype": "text/x-python",
   "name": "python",
   "nbconvert_exporter": "python",
   "pygments_lexer": "ipython3",
   "version": "3.11.5"
  }
 },
 "nbformat": 4,
 "nbformat_minor": 5
}
