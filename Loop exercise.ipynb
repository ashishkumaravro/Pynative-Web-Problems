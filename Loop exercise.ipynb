{
 "cells": [
  {
   "cell_type": "markdown",
   "id": "7d9dfd35",
   "metadata": {},
   "source": [
    "### Exercise 1: Print First 10 natural numbers using while loop"
   ]
  },
  {
   "cell_type": "code",
   "execution_count": 6,
   "id": "3f1ec7db",
   "metadata": {},
   "outputs": [
    {
     "name": "stdout",
     "output_type": "stream",
     "text": [
      "1\n",
      "2\n",
      "3\n",
      "4\n",
      "5\n",
      "6\n",
      "7\n",
      "8\n",
      "9\n",
      "10\n"
     ]
    }
   ],
   "source": [
    "i = 1\n",
    "while i <= 10:\n",
    "    print(i)\n",
    "    i += 1\n",
    "    "
   ]
  },
  {
   "cell_type": "markdown",
   "id": "47abc335",
   "metadata": {},
   "source": [
    "### Exercise 2: Print the following pattern"
   ]
  },
  {
   "cell_type": "code",
   "execution_count": 3,
   "id": "5cd25c64",
   "metadata": {},
   "outputs": [
    {
     "name": "stdout",
     "output_type": "stream",
     "text": [
      "1  \n",
      "1 2  \n",
      "1 2 3  \n",
      "1 2 3 4  \n",
      "1 2 3 4 5  \n"
     ]
    }
   ],
   "source": [
    "for i in range(1,6,1):\n",
    "    for j in range(1,i+1):\n",
    "        print(j, end = \" \")\n",
    "    print(\" \")"
   ]
  },
  {
   "cell_type": "code",
   "execution_count": 23,
   "id": "dd39c696",
   "metadata": {},
   "outputs": [
    {
     "name": "stdout",
     "output_type": "stream",
     "text": [
      "*  \n",
      "* *  \n",
      "* * *  \n",
      "* * * *  \n",
      "* * * * *  \n"
     ]
    }
   ],
   "source": [
    "for i in range(1,6):\n",
    "    for j in range(1,i+1):\n",
    "        print(\"*\", end = \" \")\n",
    "    print(\" \")"
   ]
  },
  {
   "cell_type": "markdown",
   "id": "30776182",
   "metadata": {},
   "source": [
    "### Exercise 3: Calculate the sum of all numbers from 1 to a given number"
   ]
  },
  {
   "cell_type": "code",
   "execution_count": 38,
   "id": "94da5320",
   "metadata": {},
   "outputs": [
    {
     "name": "stdout",
     "output_type": "stream",
     "text": [
      "Enter the number: 10\n",
      "Sum is: 55\n"
     ]
    }
   ],
   "source": [
    "num = int(input(\"Enter the number: \"))\n",
    "s = 0\n",
    "for i in range(1,num+1):\n",
    "    s+= i\n",
    "print(\"Sum is:\", s)\n"
   ]
  },
  {
   "cell_type": "code",
   "execution_count": 39,
   "id": "280beefb",
   "metadata": {},
   "outputs": [
    {
     "name": "stdout",
     "output_type": "stream",
     "text": [
      "enter the numebr: 10\n",
      "The result is:  55\n"
     ]
    }
   ],
   "source": [
    "value = int(input(\"enter the numebr: \"))\n",
    "x = sum(range(1,value +1))\n",
    "print(\"The result is: \",x)"
   ]
  },
  {
   "cell_type": "markdown",
   "id": "a8c83573",
   "metadata": {},
   "source": [
    "#### Exercise 4: Write a program to print multiplication table of a given number:"
   ]
  },
  {
   "cell_type": "code",
   "execution_count": 2,
   "id": "2e9caf30",
   "metadata": {},
   "outputs": [
    {
     "name": "stdout",
     "output_type": "stream",
     "text": [
      "2\n",
      "4\n",
      "6\n",
      "8\n",
      "10\n",
      "12\n",
      "14\n",
      "16\n",
      "18\n"
     ]
    }
   ],
   "source": [
    "n = 2\n",
    "for i in range(1,10,1):\n",
    "    2* i\n",
    "    value = n* i \n",
    "    print(value)\n",
    "    "
   ]
  },
  {
   "cell_type": "markdown",
   "id": "14678556",
   "metadata": {},
   "source": [
    "#### Exercise 5: Display numbers from a list using loop:\n"
   ]
  },
  {
   "cell_type": "code",
   "execution_count": 27,
   "id": "40e1af76",
   "metadata": {},
   "outputs": [
    {
     "name": "stdout",
     "output_type": "stream",
     "text": [
      "Enter the list of number: 12 13 14 25 150 120 150 500 5034 20\n",
      "25\n",
      "150\n",
      "120\n",
      "150\n"
     ]
    }
   ],
   "source": [
    "value = input(\"Enter the list of number: \")\n",
    "numbers_str = value.split()\n",
    "numbers = [int(x) for x in numbers_str]\n",
    "for num in numbers:\n",
    "    if num> 500:\n",
    "        break\n",
    "    elif num >= 150:\n",
    "        continue\n",
    "    elif num % 5 ==0:\n",
    "        print(num)\n",
    "    "
   ]
  },
  {
   "cell_type": "markdown",
   "id": "8a3a2f39",
   "metadata": {},
   "source": [
    "#### Exercise 6: Count the total number of digits in a number"
   ]
  },
  {
   "cell_type": "code",
   "execution_count": 34,
   "id": "7e6b7e42",
   "metadata": {},
   "outputs": [
    {
     "name": "stdout",
     "output_type": "stream",
     "text": [
      "Enter the number: 1234567890\n",
      "digit are:  10\n"
     ]
    }
   ],
   "source": [
    "number = int(input(\"Enter the number to count the digit: \"))\n",
    "counter = 0\n",
    "while number != 0:\n",
    "    number = number// 10\n",
    "    counter +=1\n",
    "print(\"the number digit are: \", counter)"
   ]
  },
  {
   "cell_type": "markdown",
   "id": "a28d1ef2",
   "metadata": {},
   "source": [
    "#### Exercise 7: Print the following pattern:"
   ]
  },
  {
   "cell_type": "code",
   "execution_count": 51,
   "id": "59182c6f",
   "metadata": {},
   "outputs": [
    {
     "name": "stdout",
     "output_type": "stream",
     "text": [
      "5 4 3 2 1 \n",
      "4 3 2 1 \n",
      "3 2 1 \n",
      "2 1 \n",
      "1 \n"
     ]
    }
   ],
   "source": [
    "for i in range(5,0,-1):\n",
    "    for j in range(i,0,-1):\n",
    "        print(j, end = \" \")\n",
    "    print(\"\")"
   ]
  },
  {
   "cell_type": "code",
   "execution_count": 56,
   "id": "4b815310",
   "metadata": {},
   "outputs": [
    {
     "name": "stdout",
     "output_type": "stream",
     "text": [
      "1 2 3 4 5 \n",
      "1 2 3 4 \n",
      "1 2 3 \n",
      "1 2 \n",
      "1 \n"
     ]
    }
   ],
   "source": [
    "for i in range(5, 0,-1):\n",
    "    for j in range(1, i+1):\n",
    "        print(j, end =\" \")\n",
    "    print(\"\")\n",
    "        "
   ]
  },
  {
   "cell_type": "code",
   "execution_count": 58,
   "id": "90c6767d",
   "metadata": {},
   "outputs": [
    {
     "name": "stdout",
     "output_type": "stream",
     "text": [
      "5 4 3 2 1 \n",
      "4 3 2 1 \n",
      "3 2 1 \n",
      "2 1 \n",
      "1 \n"
     ]
    }
   ],
   "source": [
    "for i in range(0,5):\n",
    "    for j in range(5-i,0,-1):\n",
    "        print(j, end=\" \")\n",
    "    print()"
   ]
  },
  {
   "cell_type": "code",
   "execution_count": 73,
   "id": "d03cc1f6",
   "metadata": {},
   "outputs": [
    {
     "name": "stdout",
     "output_type": "stream",
     "text": [
      "1 2 3 4 5 \n",
      "1 2 3 4 \n",
      "1 2 3 \n",
      "1 2 \n",
      "1 \n"
     ]
    }
   ],
   "source": [
    "for i in range(6,1, -1):\n",
    "    for j in range(1,i):\n",
    "        print(j, end = \" \")\n",
    "    print(\"\")"
   ]
  },
  {
   "cell_type": "code",
   "execution_count": 4,
   "id": "38c98727",
   "metadata": {},
   "outputs": [
    {
     "name": "stdout",
     "output_type": "stream",
     "text": [
      "\n",
      "5 \n",
      "4 5 \n",
      "3 4 5 \n",
      "2 3 4 5 \n"
     ]
    }
   ],
   "source": [
    "for i in range(6,1, -1):\n",
    "    for j in range(i, ):\n",
    "        print(j, end = \" \")\n",
    "    print(\"\")"
   ]
  },
  {
   "cell_type": "markdown",
   "id": "4526d8ed",
   "metadata": {},
   "source": [
    "#### Exercise 8: Print list in reverse order using a loop"
   ]
  },
  {
   "cell_type": "code",
   "execution_count": 5,
   "id": "4238a7a1",
   "metadata": {},
   "outputs": [
    {
     "name": "stdout",
     "output_type": "stream",
     "text": [
      "50\n",
      "40\n",
      "30\n",
      "20\n",
      "10\n"
     ]
    }
   ],
   "source": [
    "list1 = [10, 20, 30, 40, 50]\n",
    "list1.reverse()\n",
    "for i in list1:\n",
    "    print(i)"
   ]
  },
  {
   "cell_type": "markdown",
   "id": "9ee60123",
   "metadata": {},
   "source": [
    "#### Exercise 9: Display numbers from -10 to -1 using for loop"
   ]
  },
  {
   "cell_type": "code",
   "execution_count": 35,
   "id": "bdb4aa2c",
   "metadata": {},
   "outputs": [
    {
     "name": "stdout",
     "output_type": "stream",
     "text": [
      "-10\n",
      "-9\n",
      "-8\n",
      "-7\n",
      "-6\n",
      "-5\n",
      "-4\n",
      "-3\n",
      "-2\n",
      "-1\n"
     ]
    }
   ],
   "source": [
    " for i in reversed(range(-1,-11,-1)):\n",
    "    print(i)\n",
    "    "
   ]
  },
  {
   "cell_type": "code",
   "execution_count": 4,
   "id": "4c218fe5",
   "metadata": {},
   "outputs": [
    {
     "name": "stdout",
     "output_type": "stream",
     "text": [
      "-10\n",
      "-9\n",
      "-8\n",
      "-7\n",
      "-6\n",
      "-5\n",
      "-4\n",
      "-3\n",
      "-2\n",
      "-1\n"
     ]
    }
   ],
   "source": [
    "for i in range(-10,0,1):\n",
    "    print(i)"
   ]
  },
  {
   "cell_type": "markdown",
   "id": "e475158c",
   "metadata": {},
   "source": [
    "#### Exercise 10: Use else block to display a message “Done” after successful execution of for loop"
   ]
  },
  {
   "cell_type": "code",
   "execution_count": 7,
   "id": "d84f479d",
   "metadata": {},
   "outputs": [
    {
     "name": "stdout",
     "output_type": "stream",
     "text": [
      "0\n",
      "1\n",
      "2\n",
      "done\n",
      "3\n",
      "4\n"
     ]
    }
   ],
   "source": [
    "# done printing at the place of 3\n",
    "for i in range(5):\n",
    "    \n",
    "    if i== 2:\n",
    "        print(i)\n",
    "        print(\"done\")\n",
    "        \n",
    "    else:\n",
    "        print(i)\n"
   ]
  },
  {
   "cell_type": "code",
   "execution_count": 1,
   "id": "bcd1ced5",
   "metadata": {},
   "outputs": [
    {
     "name": "stdout",
     "output_type": "stream",
     "text": [
      "0\n",
      "1\n",
      "2\n",
      "3\n",
      "4\n",
      "5 Done\n",
      "6\n",
      "7\n",
      "8\n",
      "9\n",
      "10\n"
     ]
    }
   ],
   "source": [
    "#done printing with number 5\n",
    "for i in range(11):\n",
    "    if i == 5:\n",
    "        print(i,\"Done\")\n",
    "    else:\n",
    "        print(i)"
   ]
  },
  {
   "cell_type": "markdown",
   "id": "a3c88f54",
   "metadata": {},
   "source": [
    "#### Exercise 11: Write a program to display all prime numbers within a range:"
   ]
  },
  {
   "cell_type": "code",
   "execution_count": 5,
   "id": "629079c9",
   "metadata": {},
   "outputs": [
    {
     "name": "stdout",
     "output_type": "stream",
     "text": [
      "25\n",
      "29\n",
      "31\n",
      "35\n",
      "37\n",
      "41\n",
      "43\n",
      "47\n",
      "49\n"
     ]
    }
   ],
   "source": [
    "\n",
    "for i in range(25,50):\n",
    "    if i %1== 0 and i % i== 0 and i %2!= 0 and i % 3!= 0:\n",
    "        print(i)\n",
    "    else:\n",
    "        continue\n",
    "       "
   ]
  },
  {
   "cell_type": "code",
   "execution_count": null,
   "id": "fe324100",
   "metadata": {},
   "outputs": [],
   "source": []
  },
  {
   "cell_type": "code",
   "execution_count": 2,
   "id": "3c231582",
   "metadata": {},
   "outputs": [
    {
     "ename": "SyntaxError",
     "evalue": "incomplete input (3253286872.py, line 4)",
     "output_type": "error",
     "traceback": [
      "\u001b[1;36m  Cell \u001b[1;32mIn[2], line 4\u001b[1;36m\u001b[0m\n\u001b[1;33m    else:\u001b[0m\n\u001b[1;37m         ^\u001b[0m\n\u001b[1;31mSyntaxError\u001b[0m\u001b[1;31m:\u001b[0m incomplete input\n"
     ]
    }
   ],
   "source": [
    "def is_prime(prime):\n",
    "    if prime % 5 == 0 and prime :\n",
    "        print(prime,\"Is a prime number\")\n",
    "    else:\n",
    "        print()"
   ]
  },
  {
   "cell_type": "code",
   "execution_count": 6,
   "id": "595dcff4",
   "metadata": {},
   "outputs": [
    {
     "name": "stdout",
     "output_type": "stream",
     "text": [
      "Prime numbers between 25 and 50 are:\n",
      "29\n",
      "31\n",
      "37\n",
      "41\n",
      "43\n",
      "47\n"
     ]
    }
   ],
   "source": [
    "\n",
    "start = 25\n",
    "end = 50\n",
    "print(\"Prime numbers between\", start, \"and\", end, \"are:\")\n",
    "\n",
    "for num in range(start, end + 1):\n",
    "    # all prime numbers are greater than 1\n",
    "    # if number is less than or equal to 1, it is not prime\n",
    "    if num > 1:\n",
    "        for i in range(2, num):\n",
    "            # check for factors\n",
    "            if (num % i) == 0:\n",
    "                # not a prime number so break inner loop and\n",
    "                # look for next number\n",
    "                break\n",
    "        else:\n",
    "            print(num)"
   ]
  },
  {
   "cell_type": "code",
   "execution_count": 16,
   "id": "2b45b3e6",
   "metadata": {},
   "outputs": [
    {
     "name": "stdout",
     "output_type": "stream",
     "text": [
      "29\n",
      "31\n",
      "37\n",
      "41\n",
      "43\n",
      "47\n"
     ]
    }
   ],
   "source": [
    "for num in range(25,51):\n",
    "    if num > 1:\n",
    "        for i in range(2,num):\n",
    "            if num % i == 0:\n",
    "                break\n",
    "        else:\n",
    "            print(num)"
   ]
  },
  {
   "cell_type": "markdown",
   "id": "cc36f7fb",
   "metadata": {},
   "source": [
    "#### Exercise 12: Display Fibonacci series up to 10 terms"
   ]
  },
  {
   "cell_type": "code",
   "execution_count": 6,
   "id": "e7914d07",
   "metadata": {},
   "outputs": [
    {
     "name": "stdout",
     "output_type": "stream",
     "text": [
      "0 1 1 2 3 5 8 13 21 34 "
     ]
    }
   ],
   "source": [
    "num1 = 0\n",
    "num2 = 1\n",
    "for i in range(10):\n",
    "    print(num1, end = \" \")\n",
    "    res = num1+num2\n",
    "    \n",
    "    \n",
    "    num1 = num2\n",
    "    num2 = res\n",
    "    \n",
    "    "
   ]
  },
  {
   "cell_type": "markdown",
   "id": "761094cc",
   "metadata": {},
   "source": [
    "### Exercise 13: Find the factorial of a given number"
   ]
  },
  {
   "cell_type": "code",
   "execution_count": 13,
   "id": "78c9ce47",
   "metadata": {},
   "outputs": [
    {
     "name": "stdout",
     "output_type": "stream",
     "text": [
      "enter the number to check the factorial:10\n",
      "The factorial of 10 is 3628800\n"
     ]
    }
   ],
   "source": [
    "#factorial\n",
    "number = int(input(\"enter the number to check the factorial:\"))\n",
    "factorial = 1\n",
    "if number < 0:\n",
    "    print(\"Factorial does not exist for negative numbers\")\n",
    "elif number == 0:\n",
    "    print(\"The factorial is of 0 is 1\")\n",
    "else:\n",
    "    for i in range(1, number+1):\n",
    "        factorial = factorial * i\n",
    "    print(\"The factorial of\", number, \"is\", factorial)"
   ]
  },
  {
   "cell_type": "code",
   "execution_count": 11,
   "id": "390ef9d3",
   "metadata": {},
   "outputs": [
    {
     "name": "stdout",
     "output_type": "stream",
     "text": [
      "1\n",
      "3\n",
      "6\n",
      "10\n",
      "15\n",
      "21\n",
      "28\n",
      "36\n",
      "45\n"
     ]
    }
   ],
   "source": [
    "#### fibonacci series\n",
    "value = 0\n",
    "value1 =1\n",
    "for i in range(1,10):\n",
    "    value += i\n",
    "    print(value)\n",
    "    "
   ]
  },
  {
   "cell_type": "markdown",
   "id": "acbaed7b",
   "metadata": {},
   "source": [
    "#### Exercise 14: Reverse a given integer number"
   ]
  },
  {
   "cell_type": "code",
   "execution_count": 9,
   "id": "de83b787",
   "metadata": {},
   "outputs": [
    {
     "name": "stdout",
     "output_type": "stream",
     "text": [
      "enter the number: 12345\n",
      "Reverse number: 5\n",
      "Reverse number: 54\n",
      "Reverse number: 543\n",
      "Reverse number: 5432\n",
      "Reverse number: 54321\n"
     ]
    }
   ],
   "source": [
    "#### reverse number\n",
    "number = int(input(\"enter the number: \"))\n",
    "reverse_num = 0\n",
    "\n",
    "while number > 0:\n",
    "    reminder = number % 10\n",
    "    reverse_num = (reverse_num * 10) + reminder\n",
    "    number = number // 10\n",
    "    print(f\"Reverse number: {reverse_num}\")"
   ]
  },
  {
   "cell_type": "code",
   "execution_count": 10,
   "id": "8d9fbbe4",
   "metadata": {},
   "outputs": [
    {
     "name": "stdout",
     "output_type": "stream",
     "text": [
      "Enter the number that you want to reverse:123456789\n",
      "Reverse number = 987654321\n"
     ]
    }
   ],
   "source": [
    "number = int(input(\"Enter the number that you want to reverse:\"))\n",
    "reverse_num = 0\n",
    "while number > 0:\n",
    "    reminder = number % 10\n",
    "    reverse_num = reverse_num * 10 + reminder\n",
    "    number = number // 10\n",
    "print(f\"Reverse number = {reverse_num}\")"
   ]
  },
  {
   "cell_type": "markdown",
   "id": "815997c2",
   "metadata": {},
   "source": [
    "#### Exercise 15: Use a loop to display elements from a given list present at odd index positions"
   ]
  },
  {
   "cell_type": "code",
   "execution_count": 47,
   "id": "df37ee5a",
   "metadata": {},
   "outputs": [
    {
     "name": "stdout",
     "output_type": "stream",
     "text": [
      "Enter the input seperated by space: 1 2 3 4 5 6 7 8 9 10\n",
      "2 4 6 8 10 "
     ]
    }
   ],
   "source": [
    "value = str(input(\"Enter the input seperated by space: \"))\n",
    "list1 = [int(i) for i in value.split(\" \")]\n",
    "\n",
    "for i in list1[1::2]:\n",
    "    slice1 = i\n",
    "    print(slice1, end = \" \" )\n",
    "    "
   ]
  },
  {
   "cell_type": "markdown",
   "id": "571f5176",
   "metadata": {},
   "source": [
    "#### Exercise 16: Calculate the cube of all numbers from 1 to a given number"
   ]
  },
  {
   "cell_type": "code",
   "execution_count": 50,
   "id": "bed9bd2c",
   "metadata": {},
   "outputs": [
    {
     "name": "stdout",
     "output_type": "stream",
     "text": [
      "Enter the range of number: 5\n",
      "The cube of 1 is : 1\n",
      "The cube of 2 is : 8\n",
      "The cube of 3 is : 27\n",
      "The cube of 4 is : 64\n",
      "The cube of 5 is : 125\n"
     ]
    }
   ],
   "source": [
    "value = int(input(\"Enter the range of number: \"))\n",
    "for i in range(1, value +1):\n",
    "    result = i**3\n",
    "    print(f\"The cube of {i} is : {result}\")"
   ]
  },
  {
   "cell_type": "markdown",
   "id": "120286f9",
   "metadata": {},
   "source": [
    "#### Exercise 17: Find the sum of the series upto n terms"
   ]
  },
  {
   "cell_type": "code",
   "execution_count": 64,
   "id": "7cb6009e",
   "metadata": {},
   "outputs": [
    {
     "name": "stdout",
     "output_type": "stream",
     "text": [
      "Ente the range of series: 5\n",
      "Enter the value which you want to sum: 3\n",
      "3+33+333+3333+33333+ sum of series is: 37035\n"
     ]
    }
   ],
   "source": [
    "# Write a program to calculate the sum of series up to n term. \n",
    "# For example, if n =5 the series will become \n",
    "# 2 + 22 + 222 + 2222 + 22222 = 24690\n",
    "n = int(input(\"Ente the range of series: \"))\n",
    "value = int(input(\"Enter the value which you want to sum: \"))\n",
    "sum1 = 0\n",
    "for i in range(0, n):\n",
    "    print(value, end = \"+\")\n",
    "    sum1 += value\n",
    "    value = value * 10 + int(str(value)[0])\n",
    "    \n",
    "print(f\" sum of series is: {sum1}\")\n",
    "        "
   ]
  },
  {
   "cell_type": "code",
   "execution_count": 6,
   "id": "b20ee49d",
   "metadata": {},
   "outputs": [
    {
     "name": "stdout",
     "output_type": "stream",
     "text": [
      "Enter the reange of series: 5\n",
      "Enter the value which you want to sum: 1\n",
      "1+11+111+1111+11111+ sum of series is: 12345\n"
     ]
    }
   ],
   "source": [
    "#### # Write a program to calculate the sum of series up to n term. \n",
    "# For example, if n =5 the series will become \n",
    "# 2 + 22 + 222 + 2222 + 22222 = 24690\n",
    "number = int(input(\"Enter the reange of series: \"))\n",
    "value = int(input(\"Enter the value which you want to sum: \"))\n",
    "sum = 0\n",
    "for i in range(0, number):\n",
    "    print(value, end = \"+\")\n",
    "    sum += value\n",
    "    value = value * 10 + int(str(value)[0])\n",
    "print(f\" sum of series is: {sum}\")\n",
    "    "
   ]
  },
  {
   "cell_type": "code",
   "execution_count": null,
   "id": "b8ec5b93",
   "metadata": {},
   "outputs": [],
   "source": []
  },
  {
   "cell_type": "code",
   "execution_count": 13,
   "id": "9a5df38d",
   "metadata": {},
   "outputs": [
    {
     "name": "stdout",
     "output_type": "stream",
     "text": [
      "Enter the range of series5\n",
      "Enter the sum number 1\n",
      "the sum of series value: 0\n"
     ]
    }
   ],
   "source": [
    "#### a programm to calculate the sum of series\n",
    "number = int(input(\"Enter the range of series\"))\n",
    "value = int(input(\"Enter the sum number \"))\n",
    "sum_value = 0\n",
    "for i in range(0,):\n",
    "    print(value, end = \"+\")\n",
    "    sum_value += value \n",
    "    value = number * 10 + int(str(value)[0])\n",
    "print(f\"the sum of series value: {sum_value}\")"
   ]
  },
  {
   "cell_type": "markdown",
   "id": "b04fb350",
   "metadata": {},
   "source": [
    "#### Exercise 18: Print the following pattern"
   ]
  },
  {
   "cell_type": "code",
   "execution_count": 33,
   "id": "5e5f3331",
   "metadata": {},
   "outputs": [
    {
     "name": "stdout",
     "output_type": "stream",
     "text": [
      "* \n",
      "* * \n",
      "* * * \n",
      "* * * * \n",
      "* * * * * \n",
      "\n",
      "* \n",
      "* * \n",
      "* * * \n",
      "* * * * \n"
     ]
    }
   ],
   "source": [
    "#pattern\n",
    "rows = 5\n",
    "for i in range(0, rows):\n",
    "    for j in range(0,i+1):\n",
    "        print(\"*\", end = \" \")\n",
    "    print()\n",
    "\n",
    "for i in range(rows, 0, -1):\n",
    "    for j in range(0, rows -i):\n",
    "        print(\"*\", end = \" \")\n",
    "    print()"
   ]
  },
  {
   "cell_type": "code",
   "execution_count": 4,
   "id": "8fbb0b93",
   "metadata": {},
   "outputs": [
    {
     "name": "stdout",
     "output_type": "stream",
     "text": [
      "* \n",
      "* * \n",
      "* * * \n",
      "* * * * \n",
      "* * * * * \n",
      "* * * * \n",
      "* * * \n",
      "* * \n",
      "* \n",
      "\n"
     ]
    }
   ],
   "source": [
    "rows = 5\n",
    "for i in range(0, rows):\n",
    "    for j in range(0, i + 1):\n",
    "        print(\"*\", end=' ')\n",
    "    print()\n",
    "\n",
    "for i in range(rows, 0, -1):\n",
    "    for j in range(0, i - 1):\n",
    "        print(\"*\", end=' ')\n",
    "    print()"
   ]
  },
  {
   "cell_type": "code",
   "execution_count": 9,
   "id": "3ff2c069",
   "metadata": {},
   "outputs": [
    {
     "name": "stdout",
     "output_type": "stream",
     "text": [
      "* \n",
      "* * \n",
      "* * * \n",
      "* * * * \n",
      "* * * * * \n",
      "* * * * \n",
      "* * * \n",
      "* * \n",
      "* \n",
      "\n"
     ]
    }
   ],
   "source": [
    "rows = 5\n",
    "for i in range(0,rows):\n",
    "    for j in range(0, i + 1):\n",
    "        print(\"*\", end = \" \")\n",
    "    print()\n",
    "for i in range( rows, 0, -1):\n",
    "    for j in range(0, i-1):\n",
    "        print(\"*\", end = \" \")\n",
    "    print()"
   ]
  },
  {
   "cell_type": "code",
   "execution_count": 11,
   "id": "8f8427c4",
   "metadata": {},
   "outputs": [
    {
     "name": "stdout",
     "output_type": "stream",
     "text": [
      "1 \n",
      "2 2 \n",
      "3 3 3 \n",
      "4 4 4 4 \n",
      "5 5 5 5 5 \n",
      "1 \n",
      "1 2 \n",
      "1 2 3 \n",
      "1 2 3 4 \n",
      "1 2 3 4 5 \n",
      "5 \n",
      "5 4 \n",
      "5 4 3 \n",
      "5 4 3 2 \n",
      "5 4 3 2 1 \n"
     ]
    }
   ],
   "source": [
    "for i in range(1,6):\n",
    "    for j in range(i):\n",
    "        print(i, end = \" \")\n",
    "    print()\n",
    "# for pattern 1 22 333 4444 55555   \n",
    "for i in range(1,6):\n",
    "    for j in range(1, i+1):\n",
    "        print(j, end = \" \")\n",
    "    print()\n",
    "#Pattern that start with 5---1    \n",
    "for i in range(5,0, -1):\n",
    "    for j in range(5, i-1, -1):\n",
    "        print(j, end = \" \")\n",
    "    print()"
   ]
  },
  {
   "cell_type": "markdown",
   "id": "dbcd8489",
   "metadata": {},
   "source": [
    "##### diamond shape printing"
   ]
  },
  {
   "cell_type": "code",
   "execution_count": 15,
   "id": "5643535a",
   "metadata": {},
   "outputs": [
    {
     "name": "stdout",
     "output_type": "stream",
     "text": [
      "* \n",
      "* * \n",
      "* * * \n",
      "* * * * \n",
      "* * * * * \n"
     ]
    }
   ],
   "source": [
    "for i in range(1, 6):\n",
    "    for j in range(i):\n",
    "        print(\"*\", end = \" \")\n",
    "    print()"
   ]
  },
  {
   "cell_type": "code",
   "execution_count": null,
   "id": "753b57e1",
   "metadata": {},
   "outputs": [],
   "source": []
  }
 ],
 "metadata": {
  "kernelspec": {
   "display_name": "Python 3 (ipykernel)",
   "language": "python",
   "name": "python3"
  },
  "language_info": {
   "codemirror_mode": {
    "name": "ipython",
    "version": 3
   },
   "file_extension": ".py",
   "mimetype": "text/x-python",
   "name": "python",
   "nbconvert_exporter": "python",
   "pygments_lexer": "ipython3",
   "version": "3.11.5"
  }
 },
 "nbformat": 4,
 "nbformat_minor": 5
}
