{
 "cells": [
  {
   "cell_type": "markdown",
   "id": "107d8202",
   "metadata": {},
   "source": [
    "#### 1: Accept numbers from a user"
   ]
  },
  {
   "cell_type": "code",
   "execution_count": 2,
   "id": "983a72bd",
   "metadata": {},
   "outputs": [
    {
     "name": "stdout",
     "output_type": "stream",
     "text": [
      "Enter the first input number: 12\n",
      "Enter the last input number: 34\n",
      "the sum of 12 and 34 is: 46\n"
     ]
    }
   ],
   "source": [
    "input1 = int(input(\"Enter the first input number: \"))\n",
    "input2 = int(input(\"Enter the last input number: \"))\n",
    "value = input1 + input2\n",
    "print(f\"the sum of {input1} and {input2} is: {value}\")"
   ]
  },
  {
   "cell_type": "markdown",
   "id": "778235de",
   "metadata": {},
   "source": [
    "#### 2: Display three string “Name”, “Is”, “James” as “Name ** Is ** James”"
   ]
  },
  {
   "cell_type": "code",
   "execution_count": 8,
   "id": "b9df511b",
   "metadata": {},
   "outputs": [
    {
     "name": "stdout",
     "output_type": "stream",
     "text": [
      "Name**is**James\n"
     ]
    }
   ],
   "source": [
    "print(\"Name\", \"is\", \"James\", sep = \"**\")"
   ]
  },
  {
   "cell_type": "markdown",
   "id": "34d4d238",
   "metadata": {},
   "source": [
    "#### 3: Convert Decimal number to octal using print() output formatting"
   ]
  },
  {
   "cell_type": "code",
   "execution_count": 21,
   "id": "3a220e6a",
   "metadata": {},
   "outputs": [
    {
     "name": "stdout",
     "output_type": "stream",
     "text": [
      "enter the decemal number: 8\n",
      "the number  8 in octal:10\n"
     ]
    }
   ],
   "source": [
    "num = int(input(\"enter the decemal number: \"))\n",
    "print(\"the number \", num ,\"in octal:\" '%o' %num)"
   ]
  },
  {
   "cell_type": "code",
   "execution_count": 13,
   "id": "2d475a09",
   "metadata": {},
   "outputs": [
    {
     "name": "stdout",
     "output_type": "stream",
     "text": [
      "enter the number to convert into octal: 8\n",
      "10\n"
     ]
    }
   ],
   "source": [
    "number = int(input(\"enter the number to convert into octal: \"))\n",
    "print('%o'% number)"
   ]
  },
  {
   "cell_type": "markdown",
   "id": "6ba7bb5d",
   "metadata": {},
   "source": [
    "####  4: Display float number with 2 decimal places using print()"
   ]
  },
  {
   "cell_type": "code",
   "execution_count": 25,
   "id": "90db7733",
   "metadata": {},
   "outputs": [
    {
     "name": "stdout",
     "output_type": "stream",
     "text": [
      "Enter the float number: 50.589427756\n",
      "50.59\n"
     ]
    }
   ],
   "source": [
    "number = float(input(\"Enter the float number: \"))\n",
    "print(\"%.2f\" % number)"
   ]
  },
  {
   "cell_type": "code",
   "execution_count": 26,
   "id": "19895a88",
   "metadata": {},
   "outputs": [
    {
     "name": "stdout",
     "output_type": "stream",
     "text": [
      "3.1416\n"
     ]
    }
   ],
   "source": [
    "## The first 100 values of pi is given here\n",
    "pi = 3.1415926535897932384626433832795028841971693993751058209749445923078164062862089986280348253421170679\n",
    "print(\"%.4f\" % pi)"
   ]
  },
  {
   "cell_type": "markdown",
   "id": "cf298141",
   "metadata": {},
   "source": [
    "#### 5: Accept a list of 5 float numbers as an input from the user"
   ]
  },
  {
   "cell_type": "code",
   "execution_count": 1,
   "id": "39bd3635",
   "metadata": {},
   "outputs": [
    {
     "name": "stdout",
     "output_type": "stream",
     "text": [
      "Enter number at location 0 :\n"
     ]
    },
    {
     "ename": "KeyboardInterrupt",
     "evalue": "Interrupted by user",
     "output_type": "error",
     "traceback": [
      "\u001b[1;31m---------------------------------------------------------------------------\u001b[0m",
      "\u001b[1;31mKeyboardInterrupt\u001b[0m                         Traceback (most recent call last)",
      "Cell \u001b[1;32mIn[1], line 4\u001b[0m\n\u001b[0;32m      2\u001b[0m \u001b[38;5;28;01mfor\u001b[39;00m i \u001b[38;5;129;01min\u001b[39;00m \u001b[38;5;28mrange\u001b[39m(\u001b[38;5;241m0\u001b[39m,\u001b[38;5;241m5\u001b[39m):\n\u001b[0;32m      3\u001b[0m     \u001b[38;5;28mprint\u001b[39m(\u001b[38;5;124m\"\u001b[39m\u001b[38;5;124mEnter number at location\u001b[39m\u001b[38;5;124m\"\u001b[39m, i, \u001b[38;5;124m\"\u001b[39m\u001b[38;5;124m:\u001b[39m\u001b[38;5;124m\"\u001b[39m)\n\u001b[1;32m----> 4\u001b[0m     item \u001b[38;5;241m=\u001b[39m \u001b[38;5;28mfloat\u001b[39m(\u001b[38;5;28minput\u001b[39m())\n\u001b[0;32m      5\u001b[0m     numbers\u001b[38;5;241m.\u001b[39mappend(item)\n\u001b[0;32m      6\u001b[0m \u001b[38;5;28mprint\u001b[39m(numbers)\n",
      "File \u001b[1;32m~\\anaconda3\\Lib\\site-packages\\ipykernel\\kernelbase.py:1202\u001b[0m, in \u001b[0;36mKernel.raw_input\u001b[1;34m(self, prompt)\u001b[0m\n\u001b[0;32m   1200\u001b[0m     msg \u001b[38;5;241m=\u001b[39m \u001b[38;5;124m\"\u001b[39m\u001b[38;5;124mraw_input was called, but this frontend does not support input requests.\u001b[39m\u001b[38;5;124m\"\u001b[39m\n\u001b[0;32m   1201\u001b[0m     \u001b[38;5;28;01mraise\u001b[39;00m StdinNotImplementedError(msg)\n\u001b[1;32m-> 1202\u001b[0m \u001b[38;5;28;01mreturn\u001b[39;00m \u001b[38;5;28mself\u001b[39m\u001b[38;5;241m.\u001b[39m_input_request(\n\u001b[0;32m   1203\u001b[0m     \u001b[38;5;28mstr\u001b[39m(prompt),\n\u001b[0;32m   1204\u001b[0m     \u001b[38;5;28mself\u001b[39m\u001b[38;5;241m.\u001b[39m_parent_ident[\u001b[38;5;124m\"\u001b[39m\u001b[38;5;124mshell\u001b[39m\u001b[38;5;124m\"\u001b[39m],\n\u001b[0;32m   1205\u001b[0m     \u001b[38;5;28mself\u001b[39m\u001b[38;5;241m.\u001b[39mget_parent(\u001b[38;5;124m\"\u001b[39m\u001b[38;5;124mshell\u001b[39m\u001b[38;5;124m\"\u001b[39m),\n\u001b[0;32m   1206\u001b[0m     password\u001b[38;5;241m=\u001b[39m\u001b[38;5;28;01mFalse\u001b[39;00m,\n\u001b[0;32m   1207\u001b[0m )\n",
      "File \u001b[1;32m~\\anaconda3\\Lib\\site-packages\\ipykernel\\kernelbase.py:1245\u001b[0m, in \u001b[0;36mKernel._input_request\u001b[1;34m(self, prompt, ident, parent, password)\u001b[0m\n\u001b[0;32m   1242\u001b[0m \u001b[38;5;28;01mexcept\u001b[39;00m \u001b[38;5;167;01mKeyboardInterrupt\u001b[39;00m:\n\u001b[0;32m   1243\u001b[0m     \u001b[38;5;66;03m# re-raise KeyboardInterrupt, to truncate traceback\u001b[39;00m\n\u001b[0;32m   1244\u001b[0m     msg \u001b[38;5;241m=\u001b[39m \u001b[38;5;124m\"\u001b[39m\u001b[38;5;124mInterrupted by user\u001b[39m\u001b[38;5;124m\"\u001b[39m\n\u001b[1;32m-> 1245\u001b[0m     \u001b[38;5;28;01mraise\u001b[39;00m \u001b[38;5;167;01mKeyboardInterrupt\u001b[39;00m(msg) \u001b[38;5;28;01mfrom\u001b[39;00m \u001b[38;5;28;01mNone\u001b[39;00m\n\u001b[0;32m   1246\u001b[0m \u001b[38;5;28;01mexcept\u001b[39;00m \u001b[38;5;167;01mException\u001b[39;00m:\n\u001b[0;32m   1247\u001b[0m     \u001b[38;5;28mself\u001b[39m\u001b[38;5;241m.\u001b[39mlog\u001b[38;5;241m.\u001b[39mwarning(\u001b[38;5;124m\"\u001b[39m\u001b[38;5;124mInvalid Message:\u001b[39m\u001b[38;5;124m\"\u001b[39m, exc_info\u001b[38;5;241m=\u001b[39m\u001b[38;5;28;01mTrue\u001b[39;00m)\n",
      "\u001b[1;31mKeyboardInterrupt\u001b[0m: Interrupted by user"
     ]
    }
   ],
   "source": [
    "numbers = []\n",
    "for i in range(0,5):\n",
    "    print(\"Enter number at location\", i, \":\")\n",
    "    item = float(input())\n",
    "    numbers.append(item)\n",
    "print(numbers)"
   ]
  },
  {
   "cell_type": "code",
   "execution_count": 6,
   "id": "1d527e61",
   "metadata": {},
   "outputs": [
    {
     "name": "stdout",
     "output_type": "stream",
     "text": [
      "Enter number at location 0: \n",
      "1\n",
      "Enter number at location 1: \n",
      "2\n",
      "Enter number at location 2: \n",
      "3\n",
      "Enter number at location 3: \n",
      "4\n",
      "Enter number at location 4: \n",
      "5\n",
      "User List:  [1.0, 2.0, 3.0, 4.0, 5.0]\n"
     ]
    }
   ],
   "source": [
    "numbers = []\n",
    "for i in range(0,5):\n",
    "    print(f\"Enter number at location {i}: \")\n",
    "    value = float(input())\n",
    "    numbers.append(value)\n",
    "print(\"User List: \", numbers)"
   ]
  },
  {
   "cell_type": "code",
   "execution_count": 8,
   "id": "b0fdcc58",
   "metadata": {},
   "outputs": [
    {
     "name": "stdout",
     "output_type": "stream",
     "text": [
      "Enter the number at location  0 :\n",
      "number: 1\n",
      "Enter the number at location  1 :\n",
      "number: 2\n",
      "Enter the number at location  2 :\n",
      "number: 3\n",
      "Enter the number at location  3 :\n",
      "number: 4\n",
      "Enter the number at location  4 :\n",
      "number: 5\n",
      "user list:  [1.0, 2.0, 3.0, 4.0, 5.0]\n"
     ]
    }
   ],
   "source": [
    "numbers = []\n",
    "for i in range(0,5):\n",
    "    print(\"Enter the number at location \", i, \":\")\n",
    "    item = float(input(\"number: \"))\n",
    "    numbers.append(item)\n",
    "print(\"user list: \", numbers)\n",
    "    "
   ]
  },
  {
   "cell_type": "code",
   "execution_count": 9,
   "id": "df638436",
   "metadata": {},
   "outputs": [
    {
     "name": "stdout",
     "output_type": "stream",
     "text": [
      "enter the number at location  0 : \n",
      "1\n",
      "enter the number at location  1 : \n",
      "2\n",
      "enter the number at location  2 : \n",
      "3\n",
      "enter the number at location  3 : \n",
      "4\n",
      "enter the number at location  4 : \n",
      "5\n",
      "user list:  [1.0, 2.0, 3.0, 4.0, 5.0]\n"
     ]
    }
   ],
   "source": [
    "numbers = []\n",
    "for i in range(0,5):\n",
    "    print(\"enter the number at location \", i, \": \")\n",
    "    item = float(input())\n",
    "    numbers.append(item)\n",
    "print(\"user list: \", numbers)"
   ]
  },
  {
   "cell_type": "markdown",
   "id": "06a2088e",
   "metadata": {},
   "source": [
    "#### 6: Write all content of a given file into a new file by skipping line number 5"
   ]
  },
  {
   "cell_type": "code",
   "execution_count": null,
   "id": "88fe3b77",
   "metadata": {},
   "outputs": [],
   "source": []
  }
 ],
 "metadata": {
  "kernelspec": {
   "display_name": "Python 3 (ipykernel)",
   "language": "python",
   "name": "python3"
  },
  "language_info": {
   "codemirror_mode": {
    "name": "ipython",
    "version": 3
   },
   "file_extension": ".py",
   "mimetype": "text/x-python",
   "name": "python",
   "nbconvert_exporter": "python",
   "pygments_lexer": "ipython3",
   "version": "3.11.5"
  }
 },
 "nbformat": 4,
 "nbformat_minor": 5
}
