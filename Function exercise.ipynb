{
 "cells": [
  {
   "cell_type": "markdown",
   "id": "f7894b5b",
   "metadata": {},
   "source": [
    "#### Exercise 1: Create a function in Python"
   ]
  },
  {
   "cell_type": "code",
   "execution_count": 4,
   "id": "d1e83e14",
   "metadata": {},
   "outputs": [
    {
     "name": "stdout",
     "output_type": "stream",
     "text": [
      "Enter the first numebr: 12\n",
      "Enter the last number: 12\n",
      "the sum of numbers is: 24.0\n"
     ]
    }
   ],
   "source": [
    "def calculation(num1, num2):\n",
    "    sum = num1 + num2\n",
    "    return (f\"the sum of numbers is: {sum}\")\n",
    "    \n",
    "value1 = float(input(\"Enter the first numebr: \"))\n",
    "value2 = float(input(\"Enter the last number: \"))\n",
    "print( calculation(value1,value2))"
   ]
  },
  {
   "cell_type": "code",
   "execution_count": 2,
   "id": "d9b2a22e",
   "metadata": {},
   "outputs": [
    {
     "name": "stdout",
     "output_type": "stream",
     "text": [
      "name: Ashish, age: 24 , department: CSE\n"
     ]
    }
   ],
   "source": [
    "def info(name, age, dept):\n",
    "    print(f\"name: {name}, age: {age} , department: {dept}\")\n",
    "    \n",
    "info(\"Ashish\", 24, \"CSE\")"
   ]
  },
  {
   "cell_type": "markdown",
   "id": "31247736",
   "metadata": {},
   "source": [
    "#### exercise 2: Create a function with variable length of arguments"
   ]
  },
  {
   "cell_type": "code",
   "execution_count": 9,
   "id": "0a381eb7",
   "metadata": {},
   "outputs": [
    {
     "name": "stdout",
     "output_type": "stream",
     "text": [
      "10\n",
      "20\n",
      "30\n",
      "50\n",
      "60\n",
      "70\n"
     ]
    }
   ],
   "source": [
    "def fun1(*args): #The *args syntax allows to pass any number of positional arguments.\n",
    "    for i in args:\n",
    "        print(i)\n",
    "fun1(10,20,30)\n",
    "fun1(50,60,70)"
   ]
  },
  {
   "cell_type": "code",
   "execution_count": 11,
   "id": "13e09f2a",
   "metadata": {},
   "outputs": [
    {
     "name": "stdout",
     "output_type": "stream",
     "text": [
      "<class 'tuple'>\n",
      "Printing output: \n",
      "1\n",
      "Rabbi Hussain\n",
      "2\n",
      "3\n",
      "4\n",
      "<class 'tuple'>\n",
      "Printing output: \n",
      "20\n",
      "40\n",
      "60\n"
     ]
    }
   ],
   "source": [
    "def func1(*argu):\n",
    "    print(type(argu))\n",
    "    print(\"Printing output: \")\n",
    "    for i in argu:\n",
    "        print(i)\n",
    "\n",
    "func1(1,\"Rabbi Hussain\",2,3,4)\n",
    "func1(20,40,60)\n"
   ]
  },
  {
   "cell_type": "markdown",
   "id": "62384ba9",
   "metadata": {},
   "source": [
    "#### Exercise 3: Return multiple values from a function"
   ]
  },
  {
   "cell_type": "code",
   "execution_count": null,
   "id": "46b11e1b",
   "metadata": {},
   "outputs": [],
   "source": []
  },
  {
   "cell_type": "code",
   "execution_count": 13,
   "id": "b8501a04",
   "metadata": {},
   "outputs": [
    {
     "name": "stdout",
     "output_type": "stream",
     "text": [
      "Enter the first number: 10\n",
      "Enter the last number: 23\n",
      "(33.0, -13.0)\n"
     ]
    }
   ],
   "source": [
    "def calculation(a,b):\n",
    "    addition = a + b\n",
    "    subtraction = a -b\n",
    "    return addition, subtraction\n",
    "\n",
    "num1 = float(input(\"Enter the first number: \"))\n",
    "num2 = float(input(\"Enter the last number: \"))\n",
    "res = calculation(num1, num2)\n",
    "print(res)\n"
   ]
  },
  {
   "cell_type": "code",
   "execution_count": 13,
   "id": "6eb24493",
   "metadata": {},
   "outputs": [
    {
     "name": "stdout",
     "output_type": "stream",
     "text": [
      "Enter the first number: 20\n",
      "Enter the last number: 10\n"
     ]
    },
    {
     "data": {
      "text/plain": [
       "'additon: 30.0, subtraction: 10.0, multiplication: 200.0, division: 2.0'"
      ]
     },
     "execution_count": 13,
     "metadata": {},
     "output_type": "execute_result"
    }
   ],
   "source": [
    "def calculation(a,b):\n",
    "    add = a+b\n",
    "    sub = a-b\n",
    "    multi = a*b\n",
    "    division = a/b\n",
    "    \n",
    "    return(f\"additon: {add}, subtraction: {sub}, multiplication: {multi}, division: {division}\")\n",
    "\n",
    "inp1 = float(input(\"Enter the first number: \"))\n",
    "inp2 = float(input(\"Enter the last number: \"))\n",
    "calculation(inp1,inp2)"
   ]
  },
  {
   "cell_type": "code",
   "execution_count": 14,
   "id": "84279af7",
   "metadata": {},
   "outputs": [
    {
     "name": "stdout",
     "output_type": "stream",
     "text": [
      "80 20 1500 1.6666666666666667\n"
     ]
    }
   ],
   "source": [
    "def calculation(a, b):\n",
    "    return a + b, a-b, a*b,a/b\n",
    "\n",
    "#get result in tuple format\n",
    "#unpack tuple\n",
    "add,sub,mul,div = calculation(50,30)\n",
    "print(add,sub,mul,div)"
   ]
  },
  {
   "cell_type": "markdown",
   "id": "0237fa59",
   "metadata": {},
   "source": [
    "#### Exercise 4: Create a function with a default argument"
   ]
  },
  {
   "cell_type": "code",
   "execution_count": 14,
   "id": "4ba587ab",
   "metadata": {},
   "outputs": [
    {
     "name": "stdout",
     "output_type": "stream",
     "text": [
      "Name: Ben salary: 12000\n",
      "Name: Rana salary: 90000\n"
     ]
    }
   ],
   "source": [
    "def employ(name, salary = 90000):\n",
    "    print(\"Name:\", name, \"salary:\", salary)\n",
    "    \n",
    "employ(\"Ben\", 12000)\n",
    "employ(\"Rana\")\n"
   ]
  },
  {
   "cell_type": "code",
   "execution_count": 16,
   "id": "6fe5a2df",
   "metadata": {},
   "outputs": [
    {
     "name": "stdout",
     "output_type": "stream",
     "text": [
      "Name: Ashish , Department: CSE \n",
      "Name: Rabbi , Department: CSE \n",
      "Name: Tonmoy , Department: LLB \n"
     ]
    }
   ],
   "source": [
    "def student(name, dept = \"CSE\"):\n",
    "    print(f\"Name: {name} , Department: {dept} \")\n",
    "\n",
    "student(\"Ashish\")\n",
    "student(\"Rabbi\")\n",
    "student(\"Tonmoy\", \"LLB\")\n"
   ]
  },
  {
   "cell_type": "markdown",
   "id": "6615889d",
   "metadata": {},
   "source": [
    "#### Exercise 5: Create an inner function to calculate the addition in the following way"
   ]
  },
  {
   "cell_type": "code",
   "execution_count": 21,
   "id": "4b23fc80",
   "metadata": {},
   "outputs": [
    {
     "name": "stdout",
     "output_type": "stream",
     "text": [
      "Enter the first value: 5\n",
      "Enter the last value: 10\n",
      "20.0\n"
     ]
    }
   ],
   "source": [
    "def value(a, b):\n",
    "    \n",
    "    def addition(a, b):\n",
    "        return a + b\n",
    "    \n",
    "    add = addition(a, b)\n",
    "    return add + 5\n",
    "v1= float(input(\"Enter the first value: \"))\n",
    "v2 = float(input(\"Enter the last value: \"))    \n",
    "result = value(v1,v2)\n",
    "print(result)"
   ]
  },
  {
   "cell_type": "markdown",
   "id": "13a14bc1",
   "metadata": {},
   "source": [
    "#### Exercise 6: Create a recursive function"
   ]
  },
  {
   "cell_type": "code",
   "execution_count": 56,
   "id": "9131d1ee",
   "metadata": {},
   "outputs": [
    {
     "name": "stdout",
     "output_type": "stream",
     "text": [
      "Enter the number for factorial: 5\n",
      "1 1 2 6 24 120 "
     ]
    }
   ],
   "source": [
    "# recursive means using the function into code\n",
    "# function call itself\n",
    "def factorial(num):\n",
    "    if num == 0 or num == 1:\n",
    "        return 1\n",
    "    else:\n",
    "        return num * factorial(num-1)\n",
    "\n",
    "number = int(input(\"Enter the number for factorial: \"))\n",
    "# result = 5*factorial(number)\n",
    "factorial(number)\n",
    "\n",
    "for i in range(number+1):\n",
    "    print(factorial(i),end = \" \")\n"
   ]
  },
  {
   "cell_type": "code",
   "execution_count": 50,
   "id": "89691eb9",
   "metadata": {},
   "outputs": [
    {
     "name": "stdout",
     "output_type": "stream",
     "text": [
      "Enter the number for fibonacci series: 8\n",
      "Fibonacci value:\n",
      "0 1 1 2 3 5 8 13 21 "
     ]
    }
   ],
   "source": [
    "## another recoursive function\n",
    "# fibonacci series\n",
    "def fibonacci(n):\n",
    "    if n <= 1:\n",
    "        return n\n",
    "    else:\n",
    "        return fibonacci(n-1) + fibonacci(n-2)\n",
    "\n",
    "value_of_n = int(input(\"Enter the number for fibonacci series: \"))\n",
    "output = fibonacci(value_of_n)\n",
    "if value_of_n <=0:\n",
    "    print(\"Please enter a positive integer: \")\n",
    "else:\n",
    "    print(\"Fibonacci value:\")\n",
    "    for i in range(value_of_n+1):\n",
    "        print(fibonacci(i),end = \" \")\n",
    "\n",
    "    "
   ]
  },
  {
   "cell_type": "markdown",
   "id": "e98cd857",
   "metadata": {},
   "source": [
    "#### Exercise 7: Assign a different name to function and call it through the new name\n"
   ]
  },
  {
   "cell_type": "code",
   "execution_count": 62,
   "id": "508f16f2",
   "metadata": {},
   "outputs": [
    {
     "name": "stdout",
     "output_type": "stream",
     "text": [
      "Ashish 24\n",
      "Ashish 25\n"
     ]
    }
   ],
   "source": [
    "def display_student(name,age):\n",
    "    print(name, age)\n",
    "        \n",
    "display_student(\"Ashish\", 24) \n",
    "show_student = display_student\n",
    "show_student(\"Ashish\",25)\n",
    "        "
   ]
  },
  {
   "cell_type": "markdown",
   "id": "f8ad65e5",
   "metadata": {},
   "source": [
    "#### Exercise 8: Generate a Python list of all the even numbers between 4 to 30"
   ]
  },
  {
   "cell_type": "code",
   "execution_count": 63,
   "id": "8ce21c22",
   "metadata": {},
   "outputs": [
    {
     "name": "stdout",
     "output_type": "stream",
     "text": [
      "[4, 6, 8, 10, 12, 14, 16, 18, 20, 22, 24, 26, 28]\n"
     ]
    }
   ],
   "source": [
    "print(list(range(4,30,2)))"
   ]
  },
  {
   "cell_type": "markdown",
   "id": "b9e78a90",
   "metadata": {},
   "source": [
    "#### Exercise 9: Find the largest item from a given list"
   ]
  },
  {
   "cell_type": "code",
   "execution_count": 17,
   "id": "3395d750",
   "metadata": {},
   "outputs": [
    {
     "name": "stdout",
     "output_type": "stream",
     "text": [
      "Enter the list number seperaterd by space: 123 345 765 34 123 345 567\n",
      "The Largest number of the list is : 765\n"
     ]
    }
   ],
   "source": [
    "list1 = input(\"Enter the list number seperaterd by space: \")\n",
    "list2 = [int(i) for i in list1.split()]\n",
    "\n",
    "largest_item = max(list2)\n",
    "print(f\"The Largest number of the list is : {largest_item}\")"
   ]
  },
  {
   "cell_type": "markdown",
   "id": "15778a82",
   "metadata": {},
   "source": [
    "# "
   ]
  },
  {
   "cell_type": "code",
   "execution_count": 19,
   "id": "81f4cbfb",
   "metadata": {},
   "outputs": [
    {
     "name": "stdout",
     "output_type": "stream",
     "text": [
      "Enter the list numbers seperated by space: 13 24 11 66 33 76 87 12 45 54 67 98 22 98\n",
      "The largest number of the list is: 98\n"
     ]
    }
   ],
   "source": [
    "def maxnum(list1):\n",
    "    list2 = [int(i) for i in list1.split()]\n",
    "    max_value = max(list2)\n",
    "    return(f\"The largest number of the list is: {max_value}\")\n",
    "\n",
    "input1 = input(\"Enter the list numbers seperated by space: \")\n",
    "print(maxnum(input1))"
   ]
  },
  {
   "cell_type": "code",
   "execution_count": null,
   "id": "b707af62",
   "metadata": {},
   "outputs": [],
   "source": []
  }
 ],
 "metadata": {
  "kernelspec": {
   "display_name": "Python 3 (ipykernel)",
   "language": "python",
   "name": "python3"
  },
  "language_info": {
   "codemirror_mode": {
    "name": "ipython",
    "version": 3
   },
   "file_extension": ".py",
   "mimetype": "text/x-python",
   "name": "python",
   "nbconvert_exporter": "python",
   "pygments_lexer": "ipython3",
   "version": "3.11.5"
  }
 },
 "nbformat": 4,
 "nbformat_minor": 5
}
